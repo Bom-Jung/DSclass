{
 "cells": [
  {
   "cell_type": "code",
   "execution_count": 1,
   "id": "750c9e4e-f123-4ca8-ab8e-db87fcd809a4",
   "metadata": {},
   "outputs": [],
   "source": [
    "hairstyles = [\"bouffant\", \"pixie\", \"dreadlocks\", \"crew\", \"bowl\", \"bob\", \"mohawk\", \"flattop\"]"
   ]
  },
  {
   "cell_type": "code",
   "execution_count": 2,
   "id": "56904c14-4b30-4a37-bb61-c2600f9a25be",
   "metadata": {},
   "outputs": [],
   "source": [
    "prices = [30, 25, 40, 20, 20, 35, 50, 35]"
   ]
  },
  {
   "cell_type": "code",
   "execution_count": 3,
   "id": "7ad2b500-1a75-4454-9ac0-50d38f0ae4f8",
   "metadata": {},
   "outputs": [],
   "source": [
    "last_week = [2, 3, 5, 8, 4, 4, 6, 2]"
   ]
  },
  {
   "cell_type": "code",
   "execution_count": 4,
   "id": "2fac0f24-82c1-4c53-b2d5-ce8dab15d451",
   "metadata": {},
   "outputs": [],
   "source": [
    "total_price = 0 "
   ]
  },
  {
   "cell_type": "code",
   "execution_count": 5,
   "id": "262560d0-a809-48d8-b45e-9cf28ede1801",
   "metadata": {},
   "outputs": [],
   "source": [
    "for i in prices:\n",
    "    total_price += i"
   ]
  },
  {
   "cell_type": "code",
   "execution_count": 6,
   "id": "ea9c32ec-eb3e-4ead-9d9f-6dfff7d2d56e",
   "metadata": {},
   "outputs": [],
   "source": [
    "average_price = total_price/len(prices)"
   ]
  },
  {
   "cell_type": "code",
   "execution_count": 7,
   "id": "a06e4ddf-4c8f-462a-ac9c-b83068807a7d",
   "metadata": {},
   "outputs": [
    {
     "name": "stdout",
     "output_type": "stream",
     "text": [
      "31.875\n"
     ]
    }
   ],
   "source": [
    "print(average_price)"
   ]
  },
  {
   "cell_type": "code",
   "execution_count": 8,
   "id": "fb37dc60-5f7d-4d40-9698-0257e7818eee",
   "metadata": {},
   "outputs": [],
   "source": [
    "new_prices = [i-5 for i in prices ]"
   ]
  },
  {
   "cell_type": "code",
   "execution_count": 9,
   "id": "7ceb6ea4-e729-4b41-a4a1-1cc689c8169c",
   "metadata": {},
   "outputs": [
    {
     "name": "stdout",
     "output_type": "stream",
     "text": [
      "[25, 20, 35, 15, 15, 30, 45, 30]\n"
     ]
    }
   ],
   "source": [
    "print(new_prices)"
   ]
  },
  {
   "cell_type": "code",
   "execution_count": 10,
   "id": "aab2454d-8cec-42d6-a813-85f77715e2fb",
   "metadata": {},
   "outputs": [],
   "source": [
    "total_revenue = 0"
   ]
  },
  {
   "cell_type": "code",
   "execution_count": 11,
   "id": "d46b1014-0145-49c4-b77f-a74108329135",
   "metadata": {},
   "outputs": [
    {
     "name": "stdout",
     "output_type": "stream",
     "text": [
      "1085\n"
     ]
    }
   ],
   "source": [
    "for i in range(0,len(hairstyles)):\n",
    "    last_revenue = prices[i]*last_week[i]\n",
    "    total_revenue += last_revenue \n",
    "print(total_revenue)"
   ]
  },
  {
   "cell_type": "code",
   "execution_count": 12,
   "id": "20f361fe-b50b-490b-81ef-6c1c4286657e",
   "metadata": {},
   "outputs": [],
   "source": [
    "average_daily_revenue = (total_revenue)/7"
   ]
  },
  {
   "cell_type": "code",
   "execution_count": 13,
   "id": "3cec588b-7455-4499-b443-1e8c86434dc6",
   "metadata": {},
   "outputs": [
    {
     "name": "stdout",
     "output_type": "stream",
     "text": [
      "155.0\n"
     ]
    }
   ],
   "source": [
    "print(average_daily_revenue)"
   ]
  },
  {
   "cell_type": "code",
   "execution_count": 14,
   "id": "09d64fd3-12b9-40ff-b1c0-bd20d02f9c6a",
   "metadata": {},
   "outputs": [],
   "source": [
    "cuts_under_30 = [hairstyles[i] for i in range(0,len(new_prices)-1) if new_prices[i] <30]"
   ]
  },
  {
   "cell_type": "code",
   "execution_count": 15,
   "id": "e33106ec-3f9c-4723-8257-a3142c296627",
   "metadata": {},
   "outputs": [
    {
     "name": "stdout",
     "output_type": "stream",
     "text": [
      "['bouffant', 'pixie', 'crew', 'bowl']\n"
     ]
    }
   ],
   "source": [
    "print(cuts_under_30)"
   ]
  },
  {
   "cell_type": "code",
   "execution_count": null,
   "id": "1699b611-f7fa-4b01-92b6-a58ee85bd339",
   "metadata": {},
   "outputs": [],
   "source": []
  }
 ],
 "metadata": {
  "kernelspec": {
   "display_name": "Python 3 (ipykernel)",
   "language": "python",
   "name": "python3"
  },
  "language_info": {
   "codemirror_mode": {
    "name": "ipython",
    "version": 3
   },
   "file_extension": ".py",
   "mimetype": "text/x-python",
   "name": "python",
   "nbconvert_exporter": "python",
   "pygments_lexer": "ipython3",
   "version": "3.8.5"
  }
 },
 "nbformat": 4,
 "nbformat_minor": 5
}
