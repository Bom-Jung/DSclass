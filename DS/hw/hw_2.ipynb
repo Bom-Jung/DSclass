{
 "cells": [
  {
   "cell_type": "code",
   "execution_count": 1,
   "id": "38c9c135-79b5-4789-84c4-fba8fe7fed82",
   "metadata": {},
   "outputs": [],
   "source": [
    "subjects=[\"physics\",\"calulus\",\"poetry\",\"history\"]"
   ]
  },
  {
   "cell_type": "code",
   "execution_count": 2,
   "id": "2480c7c0-6928-4d19-b1ba-03e93592f081",
   "metadata": {},
   "outputs": [],
   "source": [
    "grades = [98,97,85,88]"
   ]
  },
  {
   "cell_type": "code",
   "execution_count": 3,
   "id": "1f2be3ae-ceed-4dab-b7be-6ae2464d61e8",
   "metadata": {},
   "outputs": [],
   "source": [
    "gradebook = [['physics', 98], ['calculus', 97], ['poetry', 85], ['history', 88]]\n",
    "#수동으로 더하기"
   ]
  },
  {
   "cell_type": "code",
   "execution_count": 4,
   "id": "6436413c-2480-4f90-b300-30aa433c8857",
   "metadata": {},
   "outputs": [
    {
     "name": "stdout",
     "output_type": "stream",
     "text": [
      "[['physics', 98], ['calculus', 97], ['poetry', 85], ['history', 88]]\n"
     ]
    }
   ],
   "source": [
    "print(gradebook)"
   ]
  },
  {
   "cell_type": "code",
   "execution_count": 5,
   "id": "d356d495-def0-4ab3-bfb5-5ad909246227",
   "metadata": {},
   "outputs": [],
   "source": [
    "gradebook.append(['computer sciene',100])"
   ]
  },
  {
   "cell_type": "code",
   "execution_count": 6,
   "id": "6917fd7a-ccce-4517-9e15-f38f64ceda1d",
   "metadata": {},
   "outputs": [],
   "source": [
    "gradebook.append(['visual arts',93])"
   ]
  },
  {
   "cell_type": "code",
   "execution_count": 7,
   "id": "7550efc6-f551-4119-8047-3da24f5241b5",
   "metadata": {},
   "outputs": [
    {
     "name": "stdout",
     "output_type": "stream",
     "text": [
      "[['physics', 98], ['calculus', 97], ['poetry', 85], ['history', 88], ['computer sciene', 100], ['visual arts', 93]]\n"
     ]
    }
   ],
   "source": [
    "print(gradebook)"
   ]
  },
  {
   "cell_type": "code",
   "execution_count": 8,
   "id": "d159b0ea-eead-4865-846d-cb462b7cf27b",
   "metadata": {},
   "outputs": [],
   "source": [
    "gradebook[5] = ['visual arts', 98]"
   ]
  },
  {
   "cell_type": "code",
   "execution_count": 9,
   "id": "12b22dc2-c38a-40bd-80ca-594ca595f6e1",
   "metadata": {},
   "outputs": [],
   "source": [
    "gradebook[2].remove(85)"
   ]
  },
  {
   "cell_type": "code",
   "execution_count": 10,
   "id": "6b52d0d9-a6eb-48cc-bb09-195decbfbc49",
   "metadata": {},
   "outputs": [],
   "source": [
    "gradebook[2].append('pass')"
   ]
  },
  {
   "cell_type": "code",
   "execution_count": 11,
   "id": "4ed3d6bc-e6b4-469a-af17-4d8242588e86",
   "metadata": {},
   "outputs": [
    {
     "name": "stdout",
     "output_type": "stream",
     "text": [
      "[['physics', 98], ['calculus', 97], ['poetry', 'pass'], ['history', 88], ['computer sciene', 100], ['visual arts', 98]]\n"
     ]
    }
   ],
   "source": [
    "print(gradebook)"
   ]
  },
  {
   "cell_type": "code",
   "execution_count": 12,
   "id": "eb9cf969-2531-4839-b174-f1535c16769d",
   "metadata": {},
   "outputs": [],
   "source": [
    "last_semester_gradebook = [[\"politics\", 80], [\"latin\", 96], [\"dance\", 97], [\"architecture\", 65]]"
   ]
  },
  {
   "cell_type": "code",
   "execution_count": 13,
   "id": "36cf3575-7494-4a5b-9bcc-2795b751ebae",
   "metadata": {},
   "outputs": [],
   "source": [
    "full_gradebook = last_semester_gradebook + gradebook"
   ]
  },
  {
   "cell_type": "code",
   "execution_count": 14,
   "id": "7cff03f3-c4c9-4774-b885-35a20a7deeb9",
   "metadata": {},
   "outputs": [
    {
     "name": "stdout",
     "output_type": "stream",
     "text": [
      "[['politics', 80], ['latin', 96], ['dance', 97], ['architecture', 65], ['physics', 98], ['calculus', 97], ['poetry', 'pass'], ['history', 88], ['computer sciene', 100], ['visual arts', 98]]\n"
     ]
    }
   ],
   "source": [
    "print(full_gradebook)"
   ]
  },
  {
   "cell_type": "code",
   "execution_count": null,
   "id": "812d1f12-226f-4575-90e6-bd17c2a839c6",
   "metadata": {},
   "outputs": [],
   "source": []
  }
 ],
 "metadata": {
  "kernelspec": {
   "display_name": "Python 3 (ipykernel)",
   "language": "python",
   "name": "python3"
  },
  "language_info": {
   "codemirror_mode": {
    "name": "ipython",
    "version": 3
   },
   "file_extension": ".py",
   "mimetype": "text/x-python",
   "name": "python",
   "nbconvert_exporter": "python",
   "pygments_lexer": "ipython3",
   "version": "3.8.5"
  }
 },
 "nbformat": 4,
 "nbformat_minor": 5
}
