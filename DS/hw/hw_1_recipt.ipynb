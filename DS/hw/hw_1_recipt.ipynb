{
 "cells": [
  {
   "cell_type": "code",
   "execution_count": 1,
   "id": "225cec6b-8305-4f18-9d32-4e87d93b9eef",
   "metadata": {},
   "outputs": [],
   "source": [
    "lovely_loveseat_description = \"Lovely Loveseat. Tufted polyester blend on wood. 32 inches high x 40 inches wide x 30 inches dep. Red or white.\"\n",
    "lovely_loveseat_price = 254.00\n",
    "\n",
    "stylish_settee_description = \"Stylish Settee. Faux laether on birch. 29.50 inches high x 54.75 inches wide x 28 inches deep. Black.\"\n",
    "stulish_settee_price = 180.50\n",
    "\n",
    "luxurious_lamp_decription = \"Luxurious Lamp. Glass and iron. 36 inches tall. Brown with cream shade.\"\n",
    "luxurious_lamp_price = 52.15\n",
    "\n",
    "sales_tax = 0.088"
   ]
  },
  {
   "cell_type": "code",
   "execution_count": 2,
   "id": "00454195-07c3-41e1-88b8-c16d9073456a",
   "metadata": {},
   "outputs": [],
   "source": [
    "customer_one_total = 0\n",
    "customer_one_itemization = \"\"\n",
    "\n",
    "customer_one_total += (lovely_loveseat_price)\n",
    "customer_one_itemization += (lovely_loveseat_description)\n",
    "\n",
    "customer_one_total += (luxurious_lamp_price)\n",
    "customer_one_itemization += (luxurious_lamp_decription)"
   ]
  },
  {
   "cell_type": "code",
   "execution_count": 3,
   "id": "9f1bccd4-d4cf-419c-9ab6-877cf58c808d",
   "metadata": {},
   "outputs": [],
   "source": [
    "customer_one_tax = (customer_one_total) * (sales_tax)\n",
    "customer_one_total += customer_one_tax"
   ]
  },
  {
   "cell_type": "code",
   "execution_count": 4,
   "id": "dc471736-ba6c-49fe-a869-e751f785eb8e",
   "metadata": {},
   "outputs": [
    {
     "name": "stdout",
     "output_type": "stream",
     "text": [
      "Customer One Items:\n",
      "Lovely Loveseat. Tufted polyester blend on wood. 32 inches high x 40 inches wide x 30 inches dep. Red or white.Luxurious Lamp. Glass and iron. 36 inches tall. Brown with cream shade.\n",
      "Customer One Total:\n",
      "333.09119999999996\n"
     ]
    }
   ],
   "source": [
    "print(\"Customer One Items:\")\n",
    "print(customer_one_itemization)\n",
    "print(\"Customer One Total:\")\n",
    "print(customer_one_total)"
   ]
  },
  {
   "cell_type": "code",
   "execution_count": null,
   "id": "0347ddc6-c86f-4682-9e07-bb8e73a1d07e",
   "metadata": {},
   "outputs": [],
   "source": []
  }
 ],
 "metadata": {
  "kernelspec": {
   "display_name": "Python 3 (ipykernel)",
   "language": "python",
   "name": "python3"
  },
  "language_info": {
   "codemirror_mode": {
    "name": "ipython",
    "version": 3
   },
   "file_extension": ".py",
   "mimetype": "text/x-python",
   "name": "python",
   "nbconvert_exporter": "python",
   "pygments_lexer": "ipython3",
   "version": "3.8.5"
  }
 },
 "nbformat": 4,
 "nbformat_minor": 5
}
