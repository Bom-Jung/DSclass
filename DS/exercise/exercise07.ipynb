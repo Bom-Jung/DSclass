{
 "cells": [
  {
   "cell_type": "code",
   "execution_count": 1,
   "id": "24f91090-10dd-442c-8f29-fa20016f14b6",
   "metadata": {},
   "outputs": [],
   "source": [
    "import numpy as np"
   ]
  },
  {
   "cell_type": "code",
   "execution_count": 5,
   "id": "9adb2177-4766-49ae-9dd6-2867f328ecf7",
   "metadata": {},
   "outputs": [
    {
     "name": "stdout",
     "output_type": "stream",
     "text": [
      "[0 1 2]\n",
      "[2 3 4]\n",
      "[1 3 5 7]\n"
     ]
    }
   ],
   "source": [
    "\"\"\"\n",
    "Numpy Array Attributes\n",
    "\"\"\"\n",
    "\n",
    "print(np.arange(3)) # stop\n",
    "print(np.arange(2,5)) # start, stop\n",
    "print(np.arange(1,9,2)) # start, stop, step"
   ]
  },
  {
   "cell_type": "code",
   "execution_count": 11,
   "id": "48340e5c-dc5d-49be-85fc-1f6b457bc923",
   "metadata": {},
   "outputs": [
    {
     "name": "stdout",
     "output_type": "stream",
     "text": [
      "[3 4 3 8 9]\n",
      "[[61 13 14 73  3]\n",
      " [69 82 97 96 70]\n",
      " [83 33  4 76 99]]\n",
      "[[[77 46]\n",
      "  [99 23]\n",
      "  [31 14]\n",
      "  [92 48]\n",
      "  [77 46]]\n",
      "\n",
      " [[45 29]\n",
      "  [23  3]\n",
      "  [80  3]\n",
      "  [13 66]\n",
      "  [37 55]]\n",
      "\n",
      " [[88 15]\n",
      "  [93 87]\n",
      "  [73 61]\n",
      "  [33 97]\n",
      "  [ 4 70]]]\n"
     ]
    }
   ],
   "source": [
    "# random number generator\n",
    "arr1 = np.random.randint(10, size=(5)) #0~9\n",
    "print(arr1)\n",
    "\n",
    "arr2 = np.random.randint(100,size = (3, 5))\n",
    "print(arr2)\n",
    "\n",
    "arr3 = np.random.randint(100, size = (3, 5, 2))\n",
    "print(arr3)"
   ]
  },
  {
   "cell_type": "code",
   "execution_count": 27,
   "id": "d2ebc904-d896-4eae-bb44-403b34b2fdf6",
   "metadata": {},
   "outputs": [
    {
     "name": "stdout",
     "output_type": "stream",
     "text": [
      "arr1,ndim= 1\n",
      "arr2,shape (3, 5)\n",
      "arr2,size 15\n",
      "arr2,dtype= int32\n",
      "arr2,itemsize= 4\n",
      "arr4,itemsize= 8\n",
      "arr2.nbytes =  60\n"
     ]
    }
   ],
   "source": [
    "# Attibutes\n",
    "\n",
    "print(\"arr1,ndim=\" , arr1.ndim)\n",
    "print(\"arr2,shape\" , arr2.shape)\n",
    "print(\"arr2,size\" , arr2.size)\n",
    "print(\"arr2,dtype=\" , arr2.dtype)\n",
    "print(\"arr2,itemsize=\" , arr2.itemsize)\n",
    "\n",
    "arr4 = np.array([1.5, 2.3, 3.4])\n",
    "print(\"arr4,itemsize=\" , arr4.itemsize)\n",
    "\n",
    "print(\"arr2.nbytes = \" , arr2.nbytes)"
   ]
  },
  {
   "cell_type": "code",
   "execution_count": 41,
   "id": "41e209b9-7bf1-44ca-ba25-478516fe3b0b",
   "metadata": {},
   "outputs": [
    {
     "name": "stdout",
     "output_type": "stream",
     "text": [
      "[[5 8 9 5]\n",
      " [0 0 1 7]\n",
      " [6 9 2 4]] \n",
      "\n",
      "[[5 8]\n",
      " [0 0]] \n",
      "\n",
      "[[-1  8]\n",
      " [ 0  0]] \n",
      "\n",
      "[[-1  8  9  5]\n",
      " [ 0  0  1  7]\n",
      " [ 6  9  2  4]]\n"
     ]
    }
   ],
   "source": [
    "\"\"\"\n",
    "Subarrays as no-copy views\n",
    "\"\"\"\n",
    "np.random.seed(1)\n",
    "arr = np.random.randint(10, size = (3,4))\n",
    "print(arr,'\\n')\n",
    "\n",
    "arr_sub = arr[:2,:2]\n",
    "print(arr_sub, '\\n')\n",
    "\n",
    "arr_sub[0,0] = -1\n",
    "print(arr_sub,'\\n')\n",
    "print(arr)\n"
   ]
  },
  {
   "cell_type": "code",
   "execution_count": 46,
   "id": "dfed2ade-ecdc-433b-b532-767c29eeef1d",
   "metadata": {},
   "outputs": [
    {
     "name": "stdout",
     "output_type": "stream",
     "text": [
      "[[5 8 9 5]\n",
      " [0 0 1 7]\n",
      " [6 9 2 4]]\n",
      "[[5 8]\n",
      " [0 0]] \n",
      "\n",
      "[[-1  8]\n",
      " [ 0  0]] \n",
      "\n",
      "[[5 8 9 5]\n",
      " [0 0 1 7]\n",
      " [6 9 2 4]]\n"
     ]
    }
   ],
   "source": [
    "# copy\n",
    "np.random.seed(1)\n",
    "arr = np.random.randint(10, size = (3,4))\n",
    "print(arr)\n",
    "\n",
    "arr_sub = arr[:2,:2].copy()\n",
    "print(arr_sub, '\\n')\n",
    "arr_sub[0,0] = -1 \n",
    "print(arr_sub, '\\n')\n",
    "\n",
    "print(arr)"
   ]
  },
  {
   "cell_type": "code",
   "execution_count": 47,
   "id": "e46723e1-3606-4033-9f56-6f3fb94cdb4a",
   "metadata": {},
   "outputs": [
    {
     "name": "stdout",
     "output_type": "stream",
     "text": [
      "[1 2 3 4 5 6 7 8 9]\n",
      "[[1 2 3]\n",
      " [4 5 6]\n",
      " [7 8 9]]\n"
     ]
    }
   ],
   "source": [
    "\"\"\"\n",
    "Reshapeing of Arrays\n",
    "\"\"\"\n",
    "arr= np.arange(1,10)\n",
    "print(arr)\n",
    "\n",
    "grid = arr.reshape(3,3)\n",
    "print(grid)"
   ]
  },
  {
   "cell_type": "code",
   "execution_count": 60,
   "id": "c34f5465-c30f-46c2-9d25-f6218c92290a",
   "metadata": {},
   "outputs": [
    {
     "name": "stdout",
     "output_type": "stream",
     "text": [
      "[1 2 3]\n",
      "arr.ndim =  1\n",
      "arr.shape =  (3,)\n",
      "[[1]\n",
      " [2]\n",
      " [3]]\n",
      "arr_new.ndim =  2\n",
      "arr_new.shape =  (3, 1)\n"
     ]
    }
   ],
   "source": [
    "#np.newaxis\n",
    "\n",
    "arr= np.array([1,2,3])\n",
    "print(arr)\n",
    "print(\"arr.ndim = \",arr.ndim)\n",
    "print(\"arr.shape = \", arr.shape)\n",
    "\n",
    "arr_new = arr[:, np.newaxis]\n",
    "print(arr_new)\n",
    "print(\"arr_new.ndim = \",arr_new.ndim)\n",
    "print(\"arr_new.shape = \", arr_new.shape)\n"
   ]
  },
  {
   "cell_type": "code",
   "execution_count": 66,
   "id": "bb73dd3c-4b52-4ff0-9520-c61607611e8f",
   "metadata": {},
   "outputs": [
    {
     "name": "stdout",
     "output_type": "stream",
     "text": [
      "[1 2 3 4 5 6 7 8 9]\n",
      "[[1 2 3]\n",
      " [4 5 6]\n",
      " [7 8 9]]\n"
     ]
    }
   ],
   "source": [
    "\"\"\"\n",
    "Array Concatention\n",
    "\"\"\"\n",
    "\n",
    "arr_1 = np.array([1,2,3])\n",
    "arr_2 = np.array([4,5,6])\n",
    "arr_3 = np.array([7,8,9])\n",
    "\n",
    "arr_total = np.concatenate([arr_1,arr_2,arr_3])\n",
    "print(arr_total)\n",
    "\n",
    "arr_total = np.vstack([arr_1,arr_2,arr_3])\n",
    "print(arr_total)"
   ]
  },
  {
   "cell_type": "code",
   "execution_count": 69,
   "id": "9c1fc142-ac56-4928-b8f0-9a2f8d00e407",
   "metadata": {},
   "outputs": [
    {
     "name": "stdout",
     "output_type": "stream",
     "text": [
      "[1, 2, 3, 99, 99, 3, 2, 1]\n",
      "[ 1  2  3 99] [99  3  2  1]\n"
     ]
    }
   ],
   "source": [
    "\"\"\"\n",
    "ARray splitting\n",
    "\"\"\"\n",
    "arr = [1,2,3,99,99,3,2,1]\n",
    "print(arr)\n",
    "\n",
    "\n",
    "arr_1,arr_2 = np.split(arr,[4])\n",
    "print(arr_1,arr_2)"
   ]
  },
  {
   "cell_type": "code",
   "execution_count": null,
   "id": "68d2c89c-3ec9-4ef9-9342-df63bb95e038",
   "metadata": {},
   "outputs": [],
   "source": []
  }
 ],
 "metadata": {
  "kernelspec": {
   "display_name": "Python 3 (ipykernel)",
   "language": "python",
   "name": "python3"
  },
  "language_info": {
   "codemirror_mode": {
    "name": "ipython",
    "version": 3
   },
   "file_extension": ".py",
   "mimetype": "text/x-python",
   "name": "python",
   "nbconvert_exporter": "python",
   "pygments_lexer": "ipython3",
   "version": "3.8.5"
  }
 },
 "nbformat": 4,
 "nbformat_minor": 5
}
