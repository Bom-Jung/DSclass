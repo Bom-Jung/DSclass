{
 "cells": [
  {
   "cell_type": "code",
   "execution_count": 6,
   "id": "18da4cee-4526-4660-add1-94b9f3c0b4e3",
   "metadata": {},
   "outputs": [
    {
     "name": "stdout",
     "output_type": "stream",
     "text": [
      "3\n",
      "2\n"
     ]
    }
   ],
   "source": [
    "\"\"\"\n",
    "Functions vs Method\n",
    "\"\"\"\n",
    "\n",
    "def my_function(x):\n",
    "    return x+1\n",
    "\n",
    "my_function(1)\n",
    "y=2\n",
    "result = my_function(y)\n",
    "print(result)\n",
    "\n",
    "#Method\n",
    "\n",
    "x=1\n",
    "\n",
    "class my_class:\n",
    "    def my_method(self):\n",
    "        return x+1\n",
    "\n",
    "cls=my_class()\n",
    "print(cls.my_method())"
   ]
  },
  {
   "cell_type": "code",
   "execution_count": 11,
   "id": "418cbe18-281a-46e7-95d5-f623fc639259",
   "metadata": {},
   "outputs": [
    {
     "name": "stdout",
     "output_type": "stream",
     "text": [
      "Hello everyone, my name is JungHyun Park, I was born in 1998,    and I live in Seoul.\n"
     ]
    }
   ],
   "source": [
    "\"\"\"\n",
    "Function Parameters\n",
    "\"\"\"\n",
    "\n",
    "def introduce_myself(name,birthyear,city):\n",
    "    print(\"Hello everyone, my name is %s, I was born in %d,\\\n",
    "    and I live in %s.\" % (name,birthyear, city))\n",
    "          \n",
    "introduce_myself(\"JungHyun Park\",1998,\"Seoul\")"
   ]
  },
  {
   "cell_type": "code",
   "execution_count": 14,
   "id": "8f7e2d35-c9e6-4efe-8c46-dafc964f5cf3",
   "metadata": {},
   "outputs": [
    {
     "name": "stdout",
     "output_type": "stream",
     "text": [
      "2021 is not a leap\n"
     ]
    }
   ],
   "source": [
    "\"\"\"\n",
    "Return Keyword\n",
    "\"\"\"\n",
    "\n",
    "#leap year = 윤년 (2월29일)\n",
    "def check_leap_year(year):\n",
    "    if year % 4 == 0:\n",
    "        return\"%d is a leap\" % (year)\n",
    "    else:\n",
    "        return \"%d is not a leap\" % (year)\n",
    "    \n",
    "print(check_leap_year(2021))"
   ]
  },
  {
   "cell_type": "code",
   "execution_count": 16,
   "id": "cbe8465d-e353-4e81-875f-1a3fbe3c21db",
   "metadata": {},
   "outputs": [
    {
     "name": "stdout",
     "output_type": "stream",
     "text": [
      "9 16 25\n"
     ]
    }
   ],
   "source": [
    "\"\"\"\n",
    "Returning Multiple Values\n",
    "\"\"\"\n",
    "\n",
    "def square_point(x,y,z):\n",
    "    x_squared = x ** 2\n",
    "    y_squared = y ** 2\n",
    "    z_squared = z ** 2\n",
    "    return x_squared, y_squared, z_squared\n",
    "three_squared, four_squared, five_squared = square_point(3,4,5)\n",
    "print(three_squared, four_squared, five_squared)"
   ]
  },
  {
   "cell_type": "code",
   "execution_count": 18,
   "id": "cafb2c73-3912-4d06-8df4-c5744f84c7c8",
   "metadata": {},
   "outputs": [],
   "source": [
    "\"\"\"\n",
    "Global Variables\n",
    "\"\"\"\n",
    "a=\"Hello\"\n",
    "\n",
    "def print_a():\n",
    "    print(a)\n",
    "\n",
    "    print_a()"
   ]
  },
  {
   "cell_type": "code",
   "execution_count": 24,
   "id": "6d869e6a-0537-470d-a6c5-48edb0a82656",
   "metadata": {},
   "outputs": [
    {
     "name": "stdout",
     "output_type": "stream",
     "text": [
      "5\n",
      "3\n"
     ]
    }
   ],
   "source": [
    "\"\"\"\n",
    "Local Variables\n",
    "\"\"\"\n",
    "\n",
    "a=5 #global var\n",
    "\n",
    "def f1():\n",
    "    a = 3 #local var\n",
    "    print(a)\n",
    "\n",
    "print(a)\n",
    "f1()"
   ]
  },
  {
   "cell_type": "code",
   "execution_count": 33,
   "id": "544f41d5-b996-47ab-9a52-8e35f1dfece6",
   "metadata": {},
   "outputs": [
    {
     "name": "stdout",
     "output_type": "stream",
     "text": [
      "Height = 1\n",
      "width = 2\n",
      "depth =  3\n",
      "Height = 1\n",
      "width = 2\n",
      "depth =  3\n"
     ]
    },
    {
     "data": {
      "text/plain": [
       "6"
      ]
     },
     "execution_count": 33,
     "metadata": {},
     "output_type": "execute_result"
    }
   ],
   "source": [
    "\"\"\"\n",
    "Keyword Arguments and Default Values\n",
    "\"\"\"\n",
    "\n",
    "def findvolume(height, width, depth):\n",
    "    print(\"Height = \" + str(height))\n",
    "    print(\"width = %d\" %(width))\n",
    "    print(\"depth = \",(depth))\n",
    "    return height * width * depth\n",
    "\n",
    "findvolume(1,2,3)\n",
    "findvolume(depth=3, width =2, height=1)"
   ]
  },
  {
   "cell_type": "code",
   "execution_count": null,
   "id": "6ec5bfe7-9fbc-40cb-a10d-d3a9680224a2",
   "metadata": {},
   "outputs": [],
   "source": []
  }
 ],
 "metadata": {
  "kernelspec": {
   "display_name": "Python 3 (ipykernel)",
   "language": "python",
   "name": "python3"
  },
  "language_info": {
   "codemirror_mode": {
    "name": "ipython",
    "version": 3
   },
   "file_extension": ".py",
   "mimetype": "text/x-python",
   "name": "python",
   "nbconvert_exporter": "python",
   "pygments_lexer": "ipython3",
   "version": "3.8.5"
  }
 },
 "nbformat": 4,
 "nbformat_minor": 5
}
