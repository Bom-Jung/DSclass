{
 "cells": [
  {
   "cell_type": "code",
   "execution_count": 2,
   "id": "79caeb40-59c2-4d72-afb2-1f20118b29e2",
   "metadata": {},
   "outputs": [
    {
     "name": "stdout",
     "output_type": "stream",
     "text": [
      "[2, 3, 5, 7, 11, 2]\n",
      "[]\n"
     ]
    }
   ],
   "source": [
    "\"\"\"\n",
    "Lists\n",
    "\"\"\"\n",
    "\n",
    "primes= [2,3,5,7,11,2]\n",
    "print(primes)\n",
    "\n",
    "empty_list=[]\n",
    "print(empty_list)"
   ]
  },
  {
   "cell_type": "code",
   "execution_count": 3,
   "id": "defd6aed-4f63-4a83-8035-57ba83cfb39a",
   "metadata": {},
   "outputs": [
    {
     "name": "stdout",
     "output_type": "stream",
     "text": [
      "['Jenny', 1, 1.4, True]\n"
     ]
    }
   ],
   "source": [
    "\"\"\"\n",
    "Multiple different data types\n",
    "\"\"\"\n",
    "mixed = ['Jenny',1,1.4,True]\n",
    "print(mixed)\n",
    "list_of_lists = [['a',1],['b',2]]"
   ]
  },
  {
   "cell_type": "code",
   "execution_count": 5,
   "id": "70050a7d-be36-4f96-9abb-7b6ba54bce31",
   "metadata": {},
   "outputs": [
    {
     "name": "stdout",
     "output_type": "stream",
     "text": [
      "Roger\n",
      "Rafael\n",
      "Andy\n",
      "Novak\n"
     ]
    }
   ],
   "source": [
    "\"\"\"\n",
    "Zero-indexing\n",
    "\"\"\"\n",
    "names = ['Roger', 'Rafael','Andy','Novak']\n",
    "\n",
    "print(names[0])#first data\n",
    "print(names[1])\n",
    "print(names[2])\n",
    "print(names[3])"
   ]
  },
  {
   "cell_type": "code",
   "execution_count": 6,
   "id": "eaba3a68-3727-4172-a1d0-f78a5fd05587",
   "metadata": {},
   "outputs": [
    {
     "name": "stdout",
     "output_type": "stream",
     "text": [
      "Novak\n",
      "Andy\n",
      "Rafael\n",
      "Roger\n"
     ]
    }
   ],
   "source": [
    "\"\"\"\n",
    "Negative Indexing\n",
    "\"\"\"\n",
    "print(names[-1]) #Last data\n",
    "print(names[-2]) #second to last data\n",
    "print(names[-3]) #third to last data\n",
    "print(names[-4]) #fourth to last data"
   ]
  },
  {
   "cell_type": "code",
   "execution_count": 12,
   "id": "7368daa4-34e9-4d6f-b964-d2be1e53ef50",
   "metadata": {},
   "outputs": [
    {
     "name": "stdout",
     "output_type": "stream",
     "text": [
      "['생활관', '필헌관', '소통관']\n",
      "['만우관', '장공관', '필헌관', '소통관', '송암관', '늦봄관', '장준하통일관']\n"
     ]
    }
   ],
   "source": [
    "\"\"\"\n",
    "List slicing\n",
    "\"\"\"\n",
    "hsu_buildings = ['만우관','장공관','필헌관','소통관','송암관','늦봄관','장준하통일관']\n",
    "building_slice = hsu_buildings[1:4] # 독립적인 객체\n",
    "building_slice[0] ='생활관'\n",
    "\n",
    "print(building_slice)\n",
    "print(hsu_buildings)"
   ]
  },
  {
   "cell_type": "code",
   "execution_count": 14,
   "id": "763aec13-d66b-44c6-9255-a0844920a3dc",
   "metadata": {},
   "outputs": [
    {
     "name": "stdout",
     "output_type": "stream",
     "text": [
      "[['해우리', '한식', '고s'], ['짜장명가', '중식', '중화비빔밥'], ['찌개동아리', '한식', '제육전골'], ['맘스터치', '양식', '싸이버거']]\n",
      "['해우리', '한식', '해우라면']\n"
     ]
    }
   ],
   "source": [
    "\"\"\"\n",
    "Multi-dimensional Lists\n",
    "\"\"\"\n",
    "\n",
    "restaurants = [['해우리','한식','고s'],['짜장명가','중식','중화비빔밥'],['찌개동아리','한식','제육전골'],['맘스터치','양식','싸이버거']]\n",
    "print(restaurants)\n",
    "\n",
    "restaurants[0][2] = '해우라면'\n",
    "print(restaurants[0])"
   ]
  },
  {
   "cell_type": "code",
   "execution_count": 16,
   "id": "6a40e71d-572b-41b3-9475-4cd5a755b91e",
   "metadata": {},
   "outputs": [
    {
     "name": "stdout",
     "output_type": "stream",
     "text": [
      "['cake', 'cookie', 'bread', 'biscuit', 'tart']\n"
     ]
    }
   ],
   "source": [
    "\"\"\"\n",
    "Adding lists Together\n",
    "\"\"\"\n",
    "\n",
    "Item_one = ['cake','cookie','bread']\n",
    "Item_two = ['biscuit', 'tart']\n",
    "total_items = Item_one + Item_two \n",
    "print(total_items)"
   ]
  },
  {
   "cell_type": "code",
   "execution_count": 25,
   "id": "cccdccca-0131-46a4-af89-d3a93f99d056",
   "metadata": {},
   "outputs": [
    {
     "name": "stdout",
     "output_type": "stream",
     "text": [
      "5\n",
      "['daisies', 'periwinkle', 'tulips']\n",
      "['Karla', 'Maxium', 'Vikor', 'Martin', 'Isabella']\n",
      "[1, 2, 3, 4]\n",
      "['늦봄관', '만우관', '소통관', '송암관', '장공관', '장준하통일관', '필헌관']\n"
     ]
    }
   ],
   "source": [
    "\"\"\"\n",
    "Useful Metods for Lists\n",
    "\"\"\"\n",
    "#len()\n",
    "knapsack = [2,4,3,7,10]\n",
    "size =len(knapsack)\n",
    "print(size)\n",
    "\n",
    "#appen()\n",
    "orders = ['daisies','periwinkle']\n",
    "orders.append('tulips')\n",
    "print(orders)\n",
    "\n",
    "#insert()\n",
    "store_line = ['Karla','Maxium','Martin','Isabella']\n",
    "store_line.insert(2,'Vikor')\n",
    "\n",
    "print(store_line)\n",
    "\n",
    "#remove\n",
    "sw_subjects = ['C programing','Calculus','Data Engineering','Data Structures','Machine Learning']\n",
    "sw_subjects.remove('Calculus')\n",
    "#sw_subjects.remove('Algorithms') 리스트에 값이 없다고 오류 \n",
    "\n",
    "#sort()\n",
    "\n",
    "numbers = [4,2,1,3]\n",
    "numbers.sort()\n",
    "print(numbers)\n",
    "\n",
    "hsu_buildings.sort()\n",
    "print(hsu_buildings)"
   ]
  },
  {
   "cell_type": "code",
   "execution_count": null,
   "id": "c5649de5-cc47-4c8a-9f3e-0356bfd9d9ff",
   "metadata": {},
   "outputs": [],
   "source": []
  }
 ],
 "metadata": {
  "kernelspec": {
   "display_name": "Python 3 (ipykernel)",
   "language": "python",
   "name": "python3"
  },
  "language_info": {
   "codemirror_mode": {
    "name": "ipython",
    "version": 3
   },
   "file_extension": ".py",
   "mimetype": "text/x-python",
   "name": "python",
   "nbconvert_exporter": "python",
   "pygments_lexer": "ipython3",
   "version": "3.8.5"
  }
 },
 "nbformat": 4,
 "nbformat_minor": 5
}
