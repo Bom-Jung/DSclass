{
 "cells": [
  {
   "cell_type": "code",
   "execution_count": 2,
   "id": "645df373-418d-41d0-a45f-b899742b1037",
   "metadata": {},
   "outputs": [],
   "source": [
    "import numpy as np"
   ]
  },
  {
   "cell_type": "code",
   "execution_count": 20,
   "id": "41c6a30d-7ac5-43c4-9893-921626bdc33a",
   "metadata": {},
   "outputs": [
    {
     "name": "stdout",
     "output_type": "stream",
     "text": [
      "[1 2 3 4 5]\n",
      "[1 2]\n"
     ]
    }
   ],
   "source": [
    "#Creatin a Numpy Araay\n",
    "my_list = [1,2,3,4,5]\n",
    "\n",
    "my_array = np.array(my_list)\n",
    "print(my_array)\n",
    "\n",
    "arr =np.array([1,2])\n",
    "print(arr)"
   ]
  },
  {
   "cell_type": "code",
   "execution_count": 21,
   "id": "8f97bdc0-fb6c-44c9-8ac6-cd7ae6387088",
   "metadata": {},
   "outputs": [
    {
     "name": "stdout",
     "output_type": "stream",
     "text": [
      "<U11\n",
      "int32\n",
      "float64\n"
     ]
    }
   ],
   "source": [
    "# dtype attribute\n",
    "\n",
    "a = np.array([1,\"a\",True])\n",
    "print(a.dtype)\n",
    "\n",
    "b = np.array([1,2,3])\n",
    "print(b.dtype)\n",
    "\n",
    "c = np.array([1.1,2,3])\n",
    "print(c.dtype) "
   ]
  },
  {
   "cell_type": "code",
   "execution_count": 23,
   "id": "33e1443d-3a8a-462e-be92-f72409d1c737",
   "metadata": {},
   "outputs": [
    {
     "name": "stdout",
     "output_type": "stream",
     "text": [
      "136\n",
      "144\n"
     ]
    }
   ],
   "source": [
    "\"\"\"\n",
    "Size Comparison of ndarray and list objects\n",
    "\"\"\"\n",
    "\n",
    "from sys import getsizeof\n",
    "\n",
    "lst = [1, 2, 3, 4, 5, 6, 7, 8, 9, 10]\n",
    "print(getsizeof(lst))\n",
    "\n",
    "arr = np.array([1, 2, 3, 4, 5, 6, 7, 8, 9, 10])\n",
    "print(getsizeof(arr))"
   ]
  },
  {
   "cell_type": "code",
   "execution_count": 26,
   "id": "cf792fbe-f683-43aa-a154-fd2feb0f75bd",
   "metadata": {},
   "outputs": [
    {
     "name": "stdout",
     "output_type": "stream",
     "text": [
      "[25 20 35 15 15 30 45 30]\n"
     ]
    }
   ],
   "source": [
    "prices=[30, 25, 40, 20, 20, 35, 50, 35]\n",
    "price_arr = np.array(prices)\n",
    "price_arr -= 5\n",
    "print(price_arr)"
   ]
  },
  {
   "cell_type": "code",
   "execution_count": 29,
   "id": "74e2572f-7985-463f-82ec-d7122369f366",
   "metadata": {},
   "outputs": [
    {
     "name": "stdout",
     "output_type": "stream",
     "text": [
      "[1.         1.41421356 1.73205081]\n"
     ]
    }
   ],
   "source": [
    "# opereation an np.sqrt\n",
    "\n",
    "lst = [1,2,3]\n",
    "arr = np.array(lst)\n",
    "arr = np.sqrt(arr)\n",
    "print(arr)"
   ]
  },
  {
   "cell_type": "code",
   "execution_count": 39,
   "id": "17ddab9e-517f-4be2-ac0d-054c9627f36c",
   "metadata": {},
   "outputs": [
    {
     "name": "stdout",
     "output_type": "stream",
     "text": [
      "[89 87 74 92 94]\n",
      "[260 281 248 276 272]\n",
      "[86.66666667 93.66666667 82.66666667 92.         90.66666667]\n"
     ]
    }
   ],
   "source": [
    "\"\"\"\n",
    "Exercise\n",
    "\"\"\"\n",
    "test_1 = np.array ([92, 94, 88, 91, 87])\n",
    "test_2 = np.array ([79, 100, 86, 93, 91])\n",
    "test_3 = np.array ([87, 85, 72, 90, 92])\n",
    "test_3_fixed = test_3 + 2\n",
    "print(test_3_fixed)\n",
    "total_grade = test_1 + test_2 + test_3_fixed\n",
    "print(total_grade)\n",
    "final_grade = total_grade/3\n",
    "print(final_grade)"
   ]
  },
  {
   "cell_type": "code",
   "execution_count": 47,
   "id": "6caea25f-44b8-4f90-9add-9d644eedb6fc",
   "metadata": {},
   "outputs": [
    {
     "name": "stdout",
     "output_type": "stream",
     "text": [
      "[94, 88]\n"
     ]
    }
   ],
   "source": [
    "jeremy_test_2 = test_2[3]\n",
    "manual_adwoa_test_1 = [test_1 [1],test_1[2]]\n",
    "print(manual_adwoa_test_1)"
   ]
  },
  {
   "cell_type": "code",
   "execution_count": 64,
   "id": "25459f33-4034-4b7c-b2d8-8dd73122b4d8",
   "metadata": {},
   "outputs": [
    {
     "name": "stdout",
     "output_type": "stream",
     "text": [
      "[[ 92  94  88  91  87]\n",
      " [ 79 100  86  93  91]\n",
      " [ 87  85  72  90  92]]\n"
     ]
    }
   ],
   "source": [
    "student_scores = np.array([test_1, test_2, test_3])\n",
    "print(student_scores)"
   ]
  },
  {
   "cell_type": "code",
   "execution_count": 65,
   "id": "5a4812d2-27ea-4c20-8627-e79ee007f542",
   "metadata": {},
   "outputs": [
    {
     "name": "stdout",
     "output_type": "stream",
     "text": [
      "87\n"
     ]
    }
   ],
   "source": [
    "print(student_scores[2][0])"
   ]
  },
  {
   "cell_type": "code",
   "execution_count": 68,
   "id": "ad22f9bc-81d8-482f-a5b3-4d4288d1d011",
   "metadata": {},
   "outputs": [
    {
     "name": "stdout",
     "output_type": "stream",
     "text": [
      "[91 93 90]\n"
     ]
    }
   ],
   "source": [
    "print(student_scores[:, 3])"
   ]
  },
  {
   "cell_type": "code",
   "execution_count": 73,
   "id": "d83079bf-5b92-44e7-9b58-3b476e93500a",
   "metadata": {},
   "outputs": [
    {
     "name": "stdout",
     "output_type": "stream",
     "text": [
      "[False False False False False  True  True  True  True]\n"
     ]
    }
   ],
   "source": [
    "\"\"\"\n",
    "Logical Operation with Arrays\n",
    "\"\"\"\n",
    "\n",
    "#masking\n",
    "arr = np.array([1,2,3,4,5,6,7,8,9])\n",
    "mask = arr > 5\n",
    "print(mask)"
   ]
  },
  {
   "cell_type": "code",
   "execution_count": 80,
   "id": "e8755b5b-fd61-4863-bfd6-d8f43ea84bec",
   "metadata": {},
   "outputs": [
    {
     "name": "stdout",
     "output_type": "stream",
     "text": [
      "[1 2 6 7 8 9]\n"
     ]
    }
   ],
   "source": [
    "#select using logical operation '&','/'\n",
    "selected = arr[(arr>5) | (arr<3)]\n",
    "print(selected)"
   ]
  },
  {
   "cell_type": "code",
   "execution_count": null,
   "id": "c0f04952-3cbc-4c46-8868-6a4f83f3d4d9",
   "metadata": {},
   "outputs": [],
   "source": []
  }
 ],
 "metadata": {
  "kernelspec": {
   "display_name": "Python 3 (ipykernel)",
   "language": "python",
   "name": "python3"
  },
  "language_info": {
   "codemirror_mode": {
    "name": "ipython",
    "version": 3
   },
   "file_extension": ".py",
   "mimetype": "text/x-python",
   "name": "python",
   "nbconvert_exporter": "python",
   "pygments_lexer": "ipython3",
   "version": "3.8.5"
  }
 },
 "nbformat": 4,
 "nbformat_minor": 5
}
