{
 "cells": [
  {
   "cell_type": "code",
   "execution_count": 11,
   "id": "a2d3474d-3751-41b1-83dd-f7d5bceb1d6b",
   "metadata": {},
   "outputs": [
    {
     "name": "stdout",
     "output_type": "stream",
     "text": [
      "Hello World\n",
      "100\n",
      "3.14\n",
      "my name is junghyun and i'm tired\n"
     ]
    }
   ],
   "source": [
    "\"\"\"\n",
    "print()Function\n",
    "\"\"\"\n",
    "print('Hello World')\n",
    "print(100)\n",
    "pi=3.14\n",
    "print(pi)\n",
    "\n",
    "introduce =\"my name is \"\n",
    "name=\"junghyun\"\n",
    "\n",
    "print(introduce + name+ \" and i'm tired\")"
   ]
  },
  {
   "cell_type": "code",
   "execution_count": 12,
   "id": "e154478f-485e-4828-a12a-6453a25e4631",
   "metadata": {},
   "outputs": [],
   "source": [
    "#esc누르고 B누르면 새로운 셀 생성"
   ]
  },
  {
   "cell_type": "code",
   "execution_count": 13,
   "id": "4fae182c-f538-4cfe-824c-4e63d273f4cb",
   "metadata": {},
   "outputs": [],
   "source": [
    "#Shift+Enter 누르면 한줄 실행한 다음 새로운 셀 생성"
   ]
  },
  {
   "cell_type": "code",
   "execution_count": 19,
   "id": "bb447b39-01f0-4565-b569-60fabd75f1d0",
   "metadata": {},
   "outputs": [
    {
     "data": {
      "text/plain": [
       "bool"
      ]
     },
     "execution_count": 19,
     "metadata": {},
     "output_type": "execute_result"
    }
   ],
   "source": [
    "\"\"\"\n",
    "Variables\n",
    "\"\"\"\n",
    "\n",
    "user_name = \"jung hyun\"\n",
    "user_id = 201627027\n",
    "user_email = \"gfgf98@naver.com\"\n",
    "is_student = True\n",
    "my_eyes = 1.0\n",
    "\n",
    "user_address = \"Seoul\"\n",
    "user_age = 24\n",
    "is_man= True\n",
    "type(is_man)"
   ]
  },
  {
   "cell_type": "code",
   "execution_count": 25,
   "id": "a007ca4f-8987-4aca-8c0b-cc109d721647",
   "metadata": {},
   "outputs": [
    {
     "name": "stdout",
     "output_type": "stream",
     "text": [
      "x =  1\n",
      "Address of x: 140706975192736\n",
      "x =  2\n",
      "Address of x: 140706975192768\n"
     ]
    }
   ],
   "source": [
    "\"\"\"\n",
    "Variables\n",
    "\"\"\"\n",
    "x =1\n",
    "print('x = ',x)\n",
    "print(\"Address of x:\", id(x))\n",
    "\n",
    "x =2\n",
    "print('x = ',x)\n",
    "print(\"Address of x:\", id(x))"
   ]
  },
  {
   "cell_type": "code",
   "execution_count": 26,
   "id": "b700db96-e77c-418f-9e4f-6496c7057acc",
   "metadata": {},
   "outputs": [],
   "source": [
    "\"\"\"\n",
    "DaTA Types: Integers\n",
    "\"\"\"\n",
    "\n",
    "multi_vitamin = 2\n",
    "sofa = 1\n",
    "broken_dryer = -1"
   ]
  },
  {
   "cell_type": "code",
   "execution_count": 1,
   "id": "79ad9230-856e-4149-9940-08411bab43a7",
   "metadata": {},
   "outputs": [],
   "source": [
    "\"\"\"\n",
    "Data Types:Float\n",
    "\"\"\"\n",
    "user_height = 177.6\n",
    "kosdaq = 1037.74\n",
    "consumer_price_index= 105.42\n",
    "#본인이 알고있는 세 개의 실수를 변수로 표현하시오 pi,kospi,krw제외"
   ]
  },
  {
   "cell_type": "code",
   "execution_count": 2,
   "id": "bbc6f284-7df3-4050-bc67-1dbf5a711c67",
   "metadata": {},
   "outputs": [],
   "source": [
    "\"\"\"\n",
    "Data Types: String\n",
    "\"\"\"\n",
    "\n",
    "favorite_motto = \"Done is better than perfect\"\n",
    "favorite_game = \"LOL\"\n",
    "favorite_fruit = \"Banana\"\n",
    "\n",
    "#본인이 좋아하는 것들을 문자열의 변수로 정의하시오\"\n",
    "\n"
   ]
  },
  {
   "cell_type": "code",
   "execution_count": null,
   "id": "ad0c8cc4-1419-45be-a51c-0ac90fc5b55c",
   "metadata": {},
   "outputs": [],
   "source": [
    "    "
   ]
  }
 ],
 "metadata": {
  "kernelspec": {
   "display_name": "Python 3 (ipykernel)",
   "language": "python",
   "name": "python3"
  },
  "language_info": {
   "codemirror_mode": {
    "name": "ipython",
    "version": 3
   },
   "file_extension": ".py",
   "mimetype": "text/x-python",
   "name": "python",
   "nbconvert_exporter": "python",
   "pygments_lexer": "ipython3",
   "version": "3.8.5"
  }
 },
 "nbformat": 4,
 "nbformat_minor": 5
}
