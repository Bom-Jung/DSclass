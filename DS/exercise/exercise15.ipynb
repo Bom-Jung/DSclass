{
 "cells": [
  {
   "cell_type": "code",
   "execution_count": 1,
   "id": "34ca7b74-c92c-43ef-8dea-f422c91e8f8b",
   "metadata": {},
   "outputs": [
    {
     "name": "stderr",
     "output_type": "stream",
     "text": [
      "C:\\Users\\gfgf9\\AppData\\Local\\Temp/ipykernel_8624/1649430976.py:3: FutureWarning: The pandas.datetime class is deprecated and will be removed from pandas in a future version. Import from datetime module instead.\n",
      "  from pandas import datetime\n"
     ]
    }
   ],
   "source": [
    "import pandas as pd\n",
    "import numpy as np\n",
    "from pandas import datetime\n",
    "from matplotlib import pyplot as plt"
   ]
  },
  {
   "cell_type": "code",
   "execution_count": 2,
   "id": "0e722bbc-4892-495d-a3e0-582184a4d0b6",
   "metadata": {},
   "outputs": [],
   "source": [
    "\"\"\"\n",
    "Load AirQualityUCI Data\n",
    "\"\"\"\n",
    "\n",
    "def parser(x):\n",
    "    return datetime.strptime(x, '%Y-%m-%d %H:%M:%S')\n",
    "\n",
    "input_file = './data/AirQualityUCI_refined.csv'\n",
    "\n",
    "df = pd.read_csv(input_file,\n",
    "                 index_col=[0],\n",
    "                 parse_dates=[0],\n",
    "                 date_parser=parser)"
   ]
  },
  {
   "cell_type": "code",
   "execution_count": 3,
   "id": "69bbd473-0e70-43bb-aac2-2c17a726a153",
   "metadata": {},
   "outputs": [
    {
     "data": {
      "text/html": [
       "<div>\n",
       "<style scoped>\n",
       "    .dataframe tbody tr th:only-of-type {\n",
       "        vertical-align: middle;\n",
       "    }\n",
       "\n",
       "    .dataframe tbody tr th {\n",
       "        vertical-align: top;\n",
       "    }\n",
       "\n",
       "    .dataframe thead th {\n",
       "        text-align: right;\n",
       "    }\n",
       "</style>\n",
       "<table border=\"1\" class=\"dataframe\">\n",
       "  <thead>\n",
       "    <tr style=\"text-align: right;\">\n",
       "      <th></th>\n",
       "      <th>CO(GT)</th>\n",
       "      <th>PT08.S1(CO)</th>\n",
       "      <th>PT08.S2(NMHC)</th>\n",
       "      <th>NOx(GT)</th>\n",
       "      <th>PT08.S3(NOx)</th>\n",
       "      <th>NO2(GT)</th>\n",
       "      <th>PT08.S4(NO2)</th>\n",
       "      <th>PT08.S5(O3)</th>\n",
       "      <th>RH</th>\n",
       "      <th>AH</th>\n",
       "      <th>C6H6(GT)</th>\n",
       "    </tr>\n",
       "    <tr>\n",
       "      <th>Datetime</th>\n",
       "      <th></th>\n",
       "      <th></th>\n",
       "      <th></th>\n",
       "      <th></th>\n",
       "      <th></th>\n",
       "      <th></th>\n",
       "      <th></th>\n",
       "      <th></th>\n",
       "      <th></th>\n",
       "      <th></th>\n",
       "      <th></th>\n",
       "    </tr>\n",
       "  </thead>\n",
       "  <tbody>\n",
       "    <tr>\n",
       "      <th>2004-03-10 18:00:00</th>\n",
       "      <td>2.6</td>\n",
       "      <td>1360.0</td>\n",
       "      <td>1046.0</td>\n",
       "      <td>166.0</td>\n",
       "      <td>1056.0</td>\n",
       "      <td>113.0</td>\n",
       "      <td>1692.0</td>\n",
       "      <td>1268.0</td>\n",
       "      <td>48.9</td>\n",
       "      <td>0.7578</td>\n",
       "      <td>11.9</td>\n",
       "    </tr>\n",
       "    <tr>\n",
       "      <th>2004-03-10 19:00:00</th>\n",
       "      <td>2.0</td>\n",
       "      <td>1292.0</td>\n",
       "      <td>955.0</td>\n",
       "      <td>103.0</td>\n",
       "      <td>1174.0</td>\n",
       "      <td>92.0</td>\n",
       "      <td>1559.0</td>\n",
       "      <td>972.0</td>\n",
       "      <td>47.7</td>\n",
       "      <td>0.7255</td>\n",
       "      <td>9.4</td>\n",
       "    </tr>\n",
       "    <tr>\n",
       "      <th>2004-03-10 20:00:00</th>\n",
       "      <td>2.2</td>\n",
       "      <td>1402.0</td>\n",
       "      <td>939.0</td>\n",
       "      <td>131.0</td>\n",
       "      <td>1140.0</td>\n",
       "      <td>114.0</td>\n",
       "      <td>1555.0</td>\n",
       "      <td>1074.0</td>\n",
       "      <td>54.0</td>\n",
       "      <td>0.7502</td>\n",
       "      <td>9.0</td>\n",
       "    </tr>\n",
       "    <tr>\n",
       "      <th>2004-03-10 21:00:00</th>\n",
       "      <td>2.2</td>\n",
       "      <td>1376.0</td>\n",
       "      <td>948.0</td>\n",
       "      <td>172.0</td>\n",
       "      <td>1092.0</td>\n",
       "      <td>122.0</td>\n",
       "      <td>1584.0</td>\n",
       "      <td>1203.0</td>\n",
       "      <td>60.0</td>\n",
       "      <td>0.7867</td>\n",
       "      <td>9.2</td>\n",
       "    </tr>\n",
       "    <tr>\n",
       "      <th>2004-03-10 22:00:00</th>\n",
       "      <td>1.6</td>\n",
       "      <td>1272.0</td>\n",
       "      <td>836.0</td>\n",
       "      <td>131.0</td>\n",
       "      <td>1205.0</td>\n",
       "      <td>116.0</td>\n",
       "      <td>1490.0</td>\n",
       "      <td>1110.0</td>\n",
       "      <td>59.6</td>\n",
       "      <td>0.7888</td>\n",
       "      <td>6.5</td>\n",
       "    </tr>\n",
       "  </tbody>\n",
       "</table>\n",
       "</div>"
      ],
      "text/plain": [
       "                     CO(GT)  PT08.S1(CO)  PT08.S2(NMHC)  NOx(GT)  \\\n",
       "Datetime                                                           \n",
       "2004-03-10 18:00:00     2.6       1360.0         1046.0    166.0   \n",
       "2004-03-10 19:00:00     2.0       1292.0          955.0    103.0   \n",
       "2004-03-10 20:00:00     2.2       1402.0          939.0    131.0   \n",
       "2004-03-10 21:00:00     2.2       1376.0          948.0    172.0   \n",
       "2004-03-10 22:00:00     1.6       1272.0          836.0    131.0   \n",
       "\n",
       "                     PT08.S3(NOx)  NO2(GT)  PT08.S4(NO2)  PT08.S5(O3)    RH  \\\n",
       "Datetime                                                                      \n",
       "2004-03-10 18:00:00        1056.0    113.0        1692.0       1268.0  48.9   \n",
       "2004-03-10 19:00:00        1174.0     92.0        1559.0        972.0  47.7   \n",
       "2004-03-10 20:00:00        1140.0    114.0        1555.0       1074.0  54.0   \n",
       "2004-03-10 21:00:00        1092.0    122.0        1584.0       1203.0  60.0   \n",
       "2004-03-10 22:00:00        1205.0    116.0        1490.0       1110.0  59.6   \n",
       "\n",
       "                         AH  C6H6(GT)  \n",
       "Datetime                               \n",
       "2004-03-10 18:00:00  0.7578      11.9  \n",
       "2004-03-10 19:00:00  0.7255       9.4  \n",
       "2004-03-10 20:00:00  0.7502       9.0  \n",
       "2004-03-10 21:00:00  0.7867       9.2  \n",
       "2004-03-10 22:00:00  0.7888       6.5  "
      ]
     },
     "execution_count": 3,
     "metadata": {},
     "output_type": "execute_result"
    }
   ],
   "source": [
    "df.head()\n"
   ]
  },
  {
   "cell_type": "code",
   "execution_count": 4,
   "id": "37856eb4-f831-4c2e-aee5-89be20da8e86",
   "metadata": {},
   "outputs": [
    {
     "name": "stdout",
     "output_type": "stream",
     "text": [
      "Using matplotlib backend: Qt5Agg\n"
     ]
    }
   ],
   "source": [
    "%matplotlib\n",
    "%config InlineBackend.figure_format = 'svg'"
   ]
  },
  {
   "cell_type": "code",
   "execution_count": 5,
   "id": "3dd9d46c-bbfc-4396-b08c-7155b81f0fa5",
   "metadata": {},
   "outputs": [
    {
     "data": {
      "text/plain": [
       "<matplotlib.pyplot._IonContext at 0x250da48c340>"
      ]
     },
     "execution_count": 5,
     "metadata": {},
     "output_type": "execute_result"
    }
   ],
   "source": [
    "from matplotlib import pyplot as plt\n",
    "plt.rcParams['figure.figsize'] = [10, 5]\n",
    "plt.ion() # enable the interactive mode\n"
   ]
  },
  {
   "cell_type": "code",
   "execution_count": 6,
   "id": "8cfbcf4e-8c9f-461a-9ec0-ea97921767de",
   "metadata": {},
   "outputs": [],
   "source": [
    "import seaborn as sns\n",
    "sns.set()  # set plot styles"
   ]
  },
  {
   "cell_type": "code",
   "execution_count": 7,
   "id": "e1ffae85-9f38-4e9d-8a13-9be1a75972d9",
   "metadata": {},
   "outputs": [],
   "source": [
    "df['CO(GT)'].interpolate(inplace=True)\n"
   ]
  },
  {
   "cell_type": "code",
   "execution_count": 8,
   "id": "9f7cd5c5-c494-4ffd-aa98-f40588163aaf",
   "metadata": {},
   "outputs": [
    {
     "name": "stdout",
     "output_type": "stream",
     "text": [
      "11.9 0.0\n"
     ]
    }
   ],
   "source": [
    "\"\"\"\n",
    "Binning\n",
    "\"\"\"\n",
    "\n",
    "max_val = df['CO(GT)'].max()\n",
    "min_val = df['CO(GT)'].min()\n",
    "print(max_val, min_val)"
   ]
  },
  {
   "cell_type": "code",
   "execution_count": 9,
   "id": "fce72f58-527b-4e20-adf2-66cd2c73a4ce",
   "metadata": {},
   "outputs": [
    {
     "data": {
      "text/plain": [
       "array([ 0.  ,  2.38,  4.76,  7.14,  9.52, 11.9 ])"
      ]
     },
     "execution_count": 9,
     "metadata": {},
     "output_type": "execute_result"
    }
   ],
   "source": [
    "bins = np.linspace(min_val, max_val, 6)\n",
    "bins"
   ]
  },
  {
   "cell_type": "code",
   "execution_count": 11,
   "id": "d23b7ad7-b631-4089-8af0-e40425be6faf",
   "metadata": {},
   "outputs": [],
   "source": [
    "# Labels for each bin\n",
    "\n",
    "labels=['0 <=x<2.38', '2.38<=x<4.76', '4.76<=x<7.14',\n",
    "       '7.14<=x<9.52', '9.52<=x<11.9']"
   ]
  },
  {
   "cell_type": "code",
   "execution_count": 12,
   "id": "ceb924a3-7c97-4a79-bcf0-beb60775403e",
   "metadata": {},
   "outputs": [
    {
     "name": "stdout",
     "output_type": "stream",
     "text": [
      "<class 'pandas.core.frame.DataFrame'>\n",
      "DatetimeIndex: 9357 entries, 2004-03-10 18:00:00 to 2005-04-04 14:00:00\n",
      "Data columns (total 12 columns):\n",
      " #   Column         Non-Null Count  Dtype   \n",
      "---  ------         --------------  -----   \n",
      " 0   CO(GT)         9357 non-null   float64 \n",
      " 1   PT08.S1(CO)    8991 non-null   float64 \n",
      " 2   PT08.S2(NMHC)  8991 non-null   float64 \n",
      " 3   NOx(GT)        7718 non-null   float64 \n",
      " 4   PT08.S3(NOx)   8991 non-null   float64 \n",
      " 5   NO2(GT)        7715 non-null   float64 \n",
      " 6   PT08.S4(NO2)   8991 non-null   float64 \n",
      " 7   PT08.S5(O3)    8991 non-null   float64 \n",
      " 8   RH             8991 non-null   float64 \n",
      " 9   AH             8991 non-null   float64 \n",
      " 10  C6H6(GT)       9357 non-null   float64 \n",
      " 11  bins           9357 non-null   category\n",
      "dtypes: category(1), float64(11)\n",
      "memory usage: 886.6 KB\n"
     ]
    }
   ],
   "source": [
    "# Convert the numerical values into the categorical values\n",
    "df['bins'] = pd.cut(df['CO(GT)'], bins=bins,\n",
    "                    labels=labels, include_lowest=True)\n",
    "df.info()"
   ]
  },
  {
   "cell_type": "code",
   "execution_count": 13,
   "id": "65b96a26-019e-4909-a6ee-9e1f0b171837",
   "metadata": {},
   "outputs": [
    {
     "data": {
      "text/plain": [
       "Datetime\n",
       "2004-03-10 18:00:00    2.38<=x<4.76\n",
       "2004-03-10 19:00:00      0 <=x<2.38\n",
       "2004-03-10 20:00:00      0 <=x<2.38\n",
       "2004-03-10 21:00:00      0 <=x<2.38\n",
       "2004-03-10 22:00:00      0 <=x<2.38\n",
       "2004-03-10 23:00:00      0 <=x<2.38\n",
       "2004-03-11 00:00:00      0 <=x<2.38\n",
       "2004-03-11 01:00:00      0 <=x<2.38\n",
       "2004-03-11 02:00:00      0 <=x<2.38\n",
       "2004-03-11 03:00:00      0 <=x<2.38\n",
       "2004-03-11 04:00:00      0 <=x<2.38\n",
       "2004-03-11 05:00:00      0 <=x<2.38\n",
       "2004-03-11 06:00:00      0 <=x<2.38\n",
       "2004-03-11 07:00:00      0 <=x<2.38\n",
       "2004-03-11 08:00:00      0 <=x<2.38\n",
       "2004-03-11 09:00:00      0 <=x<2.38\n",
       "2004-03-11 10:00:00      0 <=x<2.38\n",
       "2004-03-11 11:00:00      0 <=x<2.38\n",
       "2004-03-11 12:00:00      0 <=x<2.38\n",
       "2004-03-11 13:00:00      0 <=x<2.38\n",
       "2004-03-11 14:00:00    2.38<=x<4.76\n",
       "2004-03-11 15:00:00      0 <=x<2.38\n",
       "2004-03-11 16:00:00      0 <=x<2.38\n",
       "2004-03-11 17:00:00    2.38<=x<4.76\n",
       "2004-03-11 18:00:00    4.76<=x<7.14\n",
       "2004-03-11 19:00:00    4.76<=x<7.14\n",
       "2004-03-11 20:00:00    4.76<=x<7.14\n",
       "2004-03-11 21:00:00    2.38<=x<4.76\n",
       "2004-03-11 22:00:00      0 <=x<2.38\n",
       "2004-03-11 23:00:00      0 <=x<2.38\n",
       "2004-03-12 00:00:00      0 <=x<2.38\n",
       "2004-03-12 01:00:00      0 <=x<2.38\n",
       "2004-03-12 02:00:00      0 <=x<2.38\n",
       "2004-03-12 03:00:00      0 <=x<2.38\n",
       "2004-03-12 04:00:00      0 <=x<2.38\n",
       "2004-03-12 05:00:00      0 <=x<2.38\n",
       "2004-03-12 06:00:00      0 <=x<2.38\n",
       "2004-03-12 07:00:00      0 <=x<2.38\n",
       "2004-03-12 08:00:00    2.38<=x<4.76\n",
       "2004-03-12 09:00:00    2.38<=x<4.76\n",
       "2004-03-12 10:00:00    2.38<=x<4.76\n",
       "2004-03-12 11:00:00    2.38<=x<4.76\n",
       "2004-03-12 12:00:00      0 <=x<2.38\n",
       "2004-03-12 13:00:00    2.38<=x<4.76\n",
       "2004-03-12 14:00:00    2.38<=x<4.76\n",
       "2004-03-12 15:00:00    2.38<=x<4.76\n",
       "2004-03-12 16:00:00    2.38<=x<4.76\n",
       "2004-03-12 17:00:00    2.38<=x<4.76\n",
       "2004-03-12 18:00:00    2.38<=x<4.76\n",
       "2004-03-12 19:00:00    2.38<=x<4.76\n",
       "Name: bins, dtype: category\n",
       "Categories (5, object): ['0 <=x<2.38' < '2.38<=x<4.76' < '4.76<=x<7.14' < '7.14<=x<9.52' < '9.52<=x<11.9']"
      ]
     },
     "execution_count": 13,
     "metadata": {},
     "output_type": "execute_result"
    }
   ],
   "source": [
    "df['bins'][:50]"
   ]
  },
  {
   "cell_type": "code",
   "execution_count": 14,
   "id": "4a3c1685-4317-4dee-85de-b1629380a2be",
   "metadata": {},
   "outputs": [],
   "source": [
    "# Visualize the histogram of bins\n",
    "plt.hist(df['bins'], bins=5)\n",
    "plt.show()"
   ]
  },
  {
   "cell_type": "code",
   "execution_count": 15,
   "id": "1b134695-3022-465a-a9a6-60fce3a9c091",
   "metadata": {},
   "outputs": [
    {
     "name": "stderr",
     "output_type": "stream",
     "text": [
      "c:\\users\\gfgf9\\appdata\\local\\programs\\python\\python38\\lib\\site-packages\\seaborn\\distributions.py:2619: FutureWarning: `distplot` is a deprecated function and will be removed in a future version. Please adapt your code to use either `displot` (a figure-level function with similar flexibility) or `histplot` (an axes-level function for histograms).\n",
      "  warnings.warn(msg, FutureWarning)\n"
     ]
    },
    {
     "data": {
      "text/plain": [
       "<AxesSubplot:xlabel='PT08.S3(NOx)', ylabel='Density'>"
      ]
     },
     "execution_count": 15,
     "metadata": {},
     "output_type": "execute_result"
    }
   ],
   "source": [
    "\"\"\"\n",
    "Log Transform\n",
    "\"\"\"\n",
    "\n",
    "# Distribution of original data\n",
    "sns.distplot(df['PT08.S3(NOx)'])"
   ]
  },
  {
   "cell_type": "code",
   "execution_count": 16,
   "id": "d57b233a-738a-4432-bead-6c148605426c",
   "metadata": {},
   "outputs": [],
   "source": [
    "# Calculate natural logarithm on 'CO(GT)' column\n",
    "df['log'] = np.log10(df['PT08.S3(NOx)'])"
   ]
  },
  {
   "cell_type": "code",
   "execution_count": 17,
   "id": "df741352-46ad-49ba-b905-f62c8c8b0ac9",
   "metadata": {},
   "outputs": [
    {
     "data": {
      "text/plain": [
       "CO(GT)                  0.0\n",
       "PT08.S1(CO)           647.0\n",
       "PT08.S2(NMHC)         383.0\n",
       "NOx(GT)                 2.0\n",
       "PT08.S3(NOx)          322.0\n",
       "NO2(GT)                 2.0\n",
       "PT08.S4(NO2)          551.0\n",
       "PT08.S5(O3)           221.0\n",
       "RH                      9.2\n",
       "AH                   0.1847\n",
       "C6H6(GT)                0.0\n",
       "bins             0 <=x<2.38\n",
       "log                2.507856\n",
       "dtype: object"
      ]
     },
     "execution_count": 17,
     "metadata": {},
     "output_type": "execute_result"
    }
   ],
   "source": [
    "df.min()\n"
   ]
  },
  {
   "cell_type": "code",
   "execution_count": 19,
   "id": "841d2ece-d5a5-42fa-920d-71648957644e",
   "metadata": {},
   "outputs": [
    {
     "name": "stderr",
     "output_type": "stream",
     "text": [
      "c:\\users\\gfgf9\\appdata\\local\\programs\\python\\python38\\lib\\site-packages\\seaborn\\distributions.py:2619: FutureWarning: `distplot` is a deprecated function and will be removed in a future version. Please adapt your code to use either `displot` (a figure-level function with similar flexibility) or `histplot` (an axes-level function for histograms).\n",
      "  warnings.warn(msg, FutureWarning)\n"
     ]
    }
   ],
   "source": [
    "# Distribution after log transform\n",
    "sns.distplot(df['log'])\n",
    "plt.xlabel('log(PT08.S3(NoX))')\n",
    "plt.show()"
   ]
  },
  {
   "cell_type": "code",
   "execution_count": 22,
   "id": "d966328d-c984-4b63-af2c-408e423461c3",
   "metadata": {},
   "outputs": [],
   "source": [
    "\"\"\"\n",
    "One-hot Encoding\n",
    "\"\"\"\n",
    "emp_id = pd.Series([1, 2, 3, 4, 5])\n",
    "gender = pd.Series(['Male', 'Female', 'Female', 'Male', 'Female'])\n",
    "remarks = pd.Series(['Nice', 'Good', 'Great', 'Great', 'Nice'])\n",
    "\n",
    "df_emp = pd.DataFrame()\n",
    "df_emp['emp_id'] = emp_id\n",
    "df_emp['gender'] = gender\n",
    "df_emp['remarks'] = remarks"
   ]
  },
  {
   "cell_type": "code",
   "execution_count": 23,
   "id": "8aaf735f-61b1-4ef1-bbbe-340587fd1f7a",
   "metadata": {},
   "outputs": [
    {
     "data": {
      "text/html": [
       "<div>\n",
       "<style scoped>\n",
       "    .dataframe tbody tr th:only-of-type {\n",
       "        vertical-align: middle;\n",
       "    }\n",
       "\n",
       "    .dataframe tbody tr th {\n",
       "        vertical-align: top;\n",
       "    }\n",
       "\n",
       "    .dataframe thead th {\n",
       "        text-align: right;\n",
       "    }\n",
       "</style>\n",
       "<table border=\"1\" class=\"dataframe\">\n",
       "  <thead>\n",
       "    <tr style=\"text-align: right;\">\n",
       "      <th></th>\n",
       "      <th>emp_id</th>\n",
       "      <th>gender</th>\n",
       "      <th>remarks</th>\n",
       "    </tr>\n",
       "  </thead>\n",
       "  <tbody>\n",
       "    <tr>\n",
       "      <th>0</th>\n",
       "      <td>1</td>\n",
       "      <td>Male</td>\n",
       "      <td>Nice</td>\n",
       "    </tr>\n",
       "    <tr>\n",
       "      <th>1</th>\n",
       "      <td>2</td>\n",
       "      <td>Female</td>\n",
       "      <td>Good</td>\n",
       "    </tr>\n",
       "    <tr>\n",
       "      <th>2</th>\n",
       "      <td>3</td>\n",
       "      <td>Female</td>\n",
       "      <td>Great</td>\n",
       "    </tr>\n",
       "    <tr>\n",
       "      <th>3</th>\n",
       "      <td>4</td>\n",
       "      <td>Male</td>\n",
       "      <td>Great</td>\n",
       "    </tr>\n",
       "    <tr>\n",
       "      <th>4</th>\n",
       "      <td>5</td>\n",
       "      <td>Female</td>\n",
       "      <td>Nice</td>\n",
       "    </tr>\n",
       "  </tbody>\n",
       "</table>\n",
       "</div>"
      ],
      "text/plain": [
       "   emp_id  gender remarks\n",
       "0       1    Male    Nice\n",
       "1       2  Female    Good\n",
       "2       3  Female   Great\n",
       "3       4    Male   Great\n",
       "4       5  Female    Nice"
      ]
     },
     "execution_count": 23,
     "metadata": {},
     "output_type": "execute_result"
    }
   ],
   "source": [
    "df_emp"
   ]
  },
  {
   "cell_type": "code",
   "execution_count": 24,
   "id": "ed86dd1e-97a0-4710-b67e-16f1daa6ef6a",
   "metadata": {},
   "outputs": [
    {
     "name": "stdout",
     "output_type": "stream",
     "text": [
      "[1 2 3 4 5]\n",
      "['Male' 'Female']\n",
      "['Nice' 'Good' 'Great']\n"
     ]
    }
   ],
   "source": [
    "# Print unique values for each column\n",
    "print(df_emp['emp_id'].unique())\n",
    "print(df_emp['gender'].unique())\n",
    "print(df_emp['remarks'].unique())"
   ]
  },
  {
   "cell_type": "code",
   "execution_count": 26,
   "id": "30454a64-c939-47d2-921a-3cca6d4f9a2f",
   "metadata": {},
   "outputs": [
    {
     "data": {
      "text/html": [
       "<div>\n",
       "<style scoped>\n",
       "    .dataframe tbody tr th:only-of-type {\n",
       "        vertical-align: middle;\n",
       "    }\n",
       "\n",
       "    .dataframe tbody tr th {\n",
       "        vertical-align: top;\n",
       "    }\n",
       "\n",
       "    .dataframe thead th {\n",
       "        text-align: right;\n",
       "    }\n",
       "</style>\n",
       "<table border=\"1\" class=\"dataframe\">\n",
       "  <thead>\n",
       "    <tr style=\"text-align: right;\">\n",
       "      <th></th>\n",
       "      <th>emp_id</th>\n",
       "      <th>gender_Female</th>\n",
       "      <th>gender_Male</th>\n",
       "      <th>remarks_Good</th>\n",
       "      <th>remarks_Great</th>\n",
       "      <th>remarks_Nice</th>\n",
       "    </tr>\n",
       "  </thead>\n",
       "  <tbody>\n",
       "    <tr>\n",
       "      <th>0</th>\n",
       "      <td>1</td>\n",
       "      <td>0</td>\n",
       "      <td>1</td>\n",
       "      <td>0</td>\n",
       "      <td>0</td>\n",
       "      <td>1</td>\n",
       "    </tr>\n",
       "    <tr>\n",
       "      <th>1</th>\n",
       "      <td>2</td>\n",
       "      <td>1</td>\n",
       "      <td>0</td>\n",
       "      <td>1</td>\n",
       "      <td>0</td>\n",
       "      <td>0</td>\n",
       "    </tr>\n",
       "    <tr>\n",
       "      <th>2</th>\n",
       "      <td>3</td>\n",
       "      <td>1</td>\n",
       "      <td>0</td>\n",
       "      <td>0</td>\n",
       "      <td>1</td>\n",
       "      <td>0</td>\n",
       "    </tr>\n",
       "    <tr>\n",
       "      <th>3</th>\n",
       "      <td>4</td>\n",
       "      <td>0</td>\n",
       "      <td>1</td>\n",
       "      <td>0</td>\n",
       "      <td>1</td>\n",
       "      <td>0</td>\n",
       "    </tr>\n",
       "    <tr>\n",
       "      <th>4</th>\n",
       "      <td>5</td>\n",
       "      <td>1</td>\n",
       "      <td>0</td>\n",
       "      <td>0</td>\n",
       "      <td>0</td>\n",
       "      <td>1</td>\n",
       "    </tr>\n",
       "  </tbody>\n",
       "</table>\n",
       "</div>"
      ],
      "text/plain": [
       "   emp_id  gender_Female  gender_Male  remarks_Good  remarks_Great  \\\n",
       "0       1              0            1             0              0   \n",
       "1       2              1            0             1              0   \n",
       "2       3              1            0             0              1   \n",
       "3       4              0            1             0              1   \n",
       "4       5              1            0             0              0   \n",
       "\n",
       "   remarks_Nice  \n",
       "0             1  \n",
       "1             0  \n",
       "2             0  \n",
       "3             0  \n",
       "4             1  "
      ]
     },
     "execution_count": 26,
     "metadata": {},
     "output_type": "execute_result"
    }
   ],
   "source": [
    "# One-hot encoding the categorial values\n",
    "df_emp_encoded = pd.get_dummies(\n",
    "    df_emp, columns = ['gender', 'remarks'])\n",
    "\n",
    "df_emp_encoded\n"
   ]
  },
  {
   "cell_type": "code",
   "execution_count": 27,
   "id": "42cab469-5bf8-434e-9276-2132641f190a",
   "metadata": {},
   "outputs": [
    {
     "data": {
      "text/plain": [
       "<matplotlib.legend.Legend at 0x250eadc5d00>"
      ]
     },
     "execution_count": 27,
     "metadata": {},
     "output_type": "execute_result"
    }
   ],
   "source": [
    "\"\"\"\n",
    "Normalization\n",
    "\"\"\"\n",
    "\n",
    "# Visualize two columns of different scales\n",
    "plt.plot(df['CO(GT)'], label='CO')\n",
    "plt.plot(df['PT08.S2(NMHC)'], label='NMHC')\n",
    "plt.legend(loc='best')"
   ]
  },
  {
   "cell_type": "code",
   "execution_count": 28,
   "id": "7b1c9dbe-4793-4791-8e84-bf5102b40933",
   "metadata": {},
   "outputs": [
    {
     "data": {
      "text/plain": [
       "Datetime\n",
       "2004-03-10 18:00:00    0.218487\n",
       "2004-03-10 19:00:00    0.168067\n",
       "2004-03-10 20:00:00    0.184874\n",
       "2004-03-10 21:00:00    0.184874\n",
       "2004-03-10 22:00:00    0.134454\n",
       "                         ...   \n",
       "2005-04-04 10:00:00    0.260504\n",
       "2005-04-04 11:00:00    0.201681\n",
       "2005-04-04 12:00:00    0.201681\n",
       "2005-04-04 13:00:00    0.176471\n",
       "2005-04-04 14:00:00    0.184874\n",
       "Name: CO_Norm, Length: 9357, dtype: float64"
      ]
     },
     "execution_count": 28,
     "metadata": {},
     "output_type": "execute_result"
    }
   ],
   "source": [
    "# Normalize the 'CO(GT)' column\n",
    "co = df['CO(GT)'].copy()\n",
    "co_max = co.max()\n",
    "co_min = co.min()\n",
    "\n",
    "df['CO_Norm'] = (co - co_min) / (co_max - co_min)\n",
    "df['CO_Norm']\n"
   ]
  },
  {
   "cell_type": "code",
   "execution_count": 29,
   "id": "a6f99285-be71-4ae4-b899-9669927925ca",
   "metadata": {},
   "outputs": [
    {
     "data": {
      "text/plain": [
       "Datetime\n",
       "2004-03-10 18:00:00    0.362097\n",
       "2004-03-10 19:00:00    0.312398\n",
       "2004-03-10 20:00:00    0.303659\n",
       "2004-03-10 21:00:00    0.308575\n",
       "2004-03-10 22:00:00    0.247406\n",
       "                         ...   \n",
       "2005-04-04 10:00:00    0.392135\n",
       "2005-04-04 11:00:00    0.351720\n",
       "2005-04-04 12:00:00    0.371382\n",
       "2005-04-04 13:00:00    0.315674\n",
       "2005-04-04 14:00:00    0.362643\n",
       "Name: NMHC_Norm, Length: 9357, dtype: float64"
      ]
     },
     "execution_count": 29,
     "metadata": {},
     "output_type": "execute_result"
    }
   ],
   "source": [
    "# Normalize the 'PT08.S2(NMHC)' column\n",
    "nmhc = df['PT08.S2(NMHC)'].copy()\n",
    "nmhc_max = nmhc.max()\n",
    "nmhc_min = nmhc.min()\n",
    "\n",
    "df['NMHC_Norm'] = (nmhc - nmhc_min) / (nmhc_max - nmhc_min)\n",
    "df['NMHC_Norm']"
   ]
  },
  {
   "cell_type": "code",
   "execution_count": 30,
   "id": "2b45f680-5f19-48de-915b-43c59b7b549f",
   "metadata": {},
   "outputs": [
    {
     "data": {
      "text/plain": [
       "<matplotlib.legend.Legend at 0x250eae02280>"
      ]
     },
     "execution_count": 30,
     "metadata": {},
     "output_type": "execute_result"
    }
   ],
   "source": [
    "# Visualized normalized columns\n",
    "plt.plot(df['CO_Norm'], label='CO (normalized)')\n",
    "plt.plot(df['NMHC_Norm'], label='NMHC (normalized)')\n",
    "plt.legend(loc='best')\n"
   ]
  },
  {
   "cell_type": "code",
   "execution_count": 31,
   "id": "808414b2-27be-4b4f-86db-b721481f2d91",
   "metadata": {},
   "outputs": [],
   "source": [
    "\"\"\"\n",
    "Feature Split\n",
    "\"\"\"\n",
    "\n",
    "# Make untidy movie data\n",
    "movies = pd.Series([\"The Godfather, 1972, Francis Ford Coppola\",\n",
    "                    \"Contact, 1997, Robert Zemeckis\",\n",
    "                   \"Parasite, 2019, Joon-ho Bong\"])"
   ]
  },
  {
   "cell_type": "code",
   "execution_count": null,
   "id": "4d8f5ce4-0c4c-4fa2-a13f-94e19476c4b5",
   "metadata": {},
   "outputs": [],
   "source": []
  }
 ],
 "metadata": {
  "kernelspec": {
   "display_name": "Python 3 (ipykernel)",
   "language": "python",
   "name": "python3"
  },
  "language_info": {
   "codemirror_mode": {
    "name": "ipython",
    "version": 3
   },
   "file_extension": ".py",
   "mimetype": "text/x-python",
   "name": "python",
   "nbconvert_exporter": "python",
   "pygments_lexer": "ipython3",
   "version": "3.8.5"
  }
 },
 "nbformat": 4,
 "nbformat_minor": 5
}
