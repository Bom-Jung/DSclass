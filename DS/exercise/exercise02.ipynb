{
 "cells": [
  {
   "cell_type": "code",
   "execution_count": 4,
   "id": "899ddc9f-d66c-41bc-a13e-70d4b1a14743",
   "metadata": {},
   "outputs": [
    {
     "name": "stdout",
     "output_type": "stream",
     "text": [
      "<class 'bool'>\n"
     ]
    }
   ],
   "source": [
    "is_tested = True\n",
    "\n",
    "print(type(is_tested))"
   ]
  },
  {
   "cell_type": "code",
   "execution_count": 8,
   "id": "deaeb24c-204a-4439-9a3d-aff1ef0e1a6b",
   "metadata": {},
   "outputs": [
    {
     "data": {
      "text/plain": [
       "False"
      ]
     },
     "execution_count": 8,
     "metadata": {},
     "output_type": "execute_result"
    }
   ],
   "source": [
    "a=2\n",
    "b=3\n",
    "\n",
    "a==b"
   ]
  },
  {
   "cell_type": "code",
   "execution_count": 15,
   "id": "5af1b0a5-d600-491c-a37e-875289aa1b35",
   "metadata": {},
   "outputs": [
    {
     "name": "stdout",
     "output_type": "stream",
     "text": [
      "True\n",
      "True\n",
      "False\n"
     ]
    }
   ],
   "source": [
    "#1\n",
    "print(\"Yes\"=='Yes')\n",
    "#2\n",
    "print((2>1)==(5<10))\n",
    "#3\n",
    "c='2'\n",
    "d=2\n",
    "print(c==d)"
   ]
  },
  {
   "cell_type": "code",
   "execution_count": 17,
   "id": "10275df8-100b-4375-b664-6087876be26c",
   "metadata": {},
   "outputs": [
    {
     "name": "stdout",
     "output_type": "stream",
     "text": [
      "True\n",
      "True\n"
     ]
    }
   ],
   "source": [
    "#1\n",
    "print(\"Yes\" != \"No\")\n",
    "#2\n",
    "Val1 = 10\n",
    "Val2 = 20\n",
    "print(Val1 != Val2)"
   ]
  },
  {
   "cell_type": "code",
   "execution_count": 27,
   "id": "6aa47ef4-3f08-4be0-9d10-57e6ef464478",
   "metadata": {},
   "outputs": [
    {
     "data": {
      "text/plain": [
       "True"
      ]
     },
     "execution_count": 27,
     "metadata": {},
     "output_type": "execute_result"
    }
   ],
   "source": [
    "True or True"
   ]
  },
  {
   "cell_type": "code",
   "execution_count": 22,
   "id": "fe19279e-ab5a-43ef-82a4-cf8d256fd867",
   "metadata": {},
   "outputs": [
    {
     "data": {
      "text/plain": [
       "True"
      ]
     },
     "execution_count": 22,
     "metadata": {},
     "output_type": "execute_result"
    }
   ],
   "source": [
    "True or False"
   ]
  },
  {
   "cell_type": "code",
   "execution_count": 23,
   "id": "8c78764c-c315-49d7-b315-aa7e143ac212",
   "metadata": {},
   "outputs": [
    {
     "data": {
      "text/plain": [
       "False"
      ]
     },
     "execution_count": 23,
     "metadata": {},
     "output_type": "execute_result"
    }
   ],
   "source": [
    "False or False"
   ]
  },
  {
   "cell_type": "code",
   "execution_count": 24,
   "id": "8db4f127-7d35-415c-8664-25c119a68d50",
   "metadata": {},
   "outputs": [
    {
     "data": {
      "text/plain": [
       "True"
      ]
     },
     "execution_count": 24,
     "metadata": {},
     "output_type": "execute_result"
    }
   ],
   "source": [
    "1<2 or 3<1"
   ]
  },
  {
   "cell_type": "code",
   "execution_count": 25,
   "id": "7df542c3-4666-4a3b-a25d-74061d89c5d7",
   "metadata": {},
   "outputs": [
    {
     "data": {
      "text/plain": [
       "False"
      ]
     },
     "execution_count": 25,
     "metadata": {},
     "output_type": "execute_result"
    }
   ],
   "source": [
    "3<1 or 1>6"
   ]
  },
  {
   "cell_type": "code",
   "execution_count": 26,
   "id": "11171bfd-12a4-46c3-a956-a27a7c403bc4",
   "metadata": {},
   "outputs": [
    {
     "data": {
      "text/plain": [
       "True"
      ]
     },
     "execution_count": 26,
     "metadata": {},
     "output_type": "execute_result"
    }
   ],
   "source": [
    "1==1 or 1<2"
   ]
  },
  {
   "cell_type": "code",
   "execution_count": 28,
   "id": "55e4035f-f29b-474e-9f9d-57f8322ae270",
   "metadata": {},
   "outputs": [
    {
     "data": {
      "text/plain": [
       "True"
      ]
     },
     "execution_count": 28,
     "metadata": {},
     "output_type": "execute_result"
    }
   ],
   "source": [
    "True and True"
   ]
  },
  {
   "cell_type": "code",
   "execution_count": 29,
   "id": "a213f6a5-fac9-46fa-a661-c6641532ac01",
   "metadata": {},
   "outputs": [
    {
     "data": {
      "text/plain": [
       "False"
      ]
     },
     "execution_count": 29,
     "metadata": {},
     "output_type": "execute_result"
    }
   ],
   "source": [
    "True and False"
   ]
  },
  {
   "cell_type": "code",
   "execution_count": 30,
   "id": "84544e2f-2bdd-40eb-a1a8-91b21ce67d38",
   "metadata": {},
   "outputs": [
    {
     "data": {
      "text/plain": [
       "False"
      ]
     },
     "execution_count": 30,
     "metadata": {},
     "output_type": "execute_result"
    }
   ],
   "source": [
    "False and False"
   ]
  },
  {
   "cell_type": "code",
   "execution_count": 31,
   "id": "c408fcb9-cf78-4e18-96d9-fc742fd7a643",
   "metadata": {},
   "outputs": [
    {
     "data": {
      "text/plain": [
       "True"
      ]
     },
     "execution_count": 31,
     "metadata": {},
     "output_type": "execute_result"
    }
   ],
   "source": [
    "1 ==1 and 1<2"
   ]
  },
  {
   "cell_type": "code",
   "execution_count": 32,
   "id": "6dbe25c1-f6a9-4c5d-8ff6-7e6eee42cc3d",
   "metadata": {},
   "outputs": [
    {
     "data": {
      "text/plain": [
       "False"
      ]
     },
     "execution_count": 32,
     "metadata": {},
     "output_type": "execute_result"
    }
   ],
   "source": [
    "1<2 and 3<1"
   ]
  },
  {
   "cell_type": "code",
   "execution_count": 40,
   "id": "166bcf51-3e5b-45c6-b992-9054ec928543",
   "metadata": {},
   "outputs": [
    {
     "name": "stdout",
     "output_type": "stream",
     "text": [
      "내 강아지는 푸들\n",
      "True\n"
     ]
    }
   ],
   "source": [
    "puppy = 'poodle'\n",
    "is_yes = False\n",
    "\n",
    "if puppy == 'maltese':\n",
    "    print(\"내 강아지는 말티즈\")\n",
    "    is_yes = True\n",
    "elif puppy == 'poodle':\n",
    "    print(\"내 강아지는 푸들\")\n",
    "    is_yes = True\n",
    "else:\n",
    "    print(\"아 말티푸구나.\")\n",
    "    is_yes =True\n",
    "    \n",
    "print(is_yes)"
   ]
  },
  {
   "cell_type": "code",
   "execution_count": 41,
   "id": "c5ccfabd-5ccb-4252-9b4d-a5ca82cbae34",
   "metadata": {},
   "outputs": [
    {
     "name": "stdout",
     "output_type": "stream",
     "text": [
      "[ERROR]:y is not declared.\n"
     ]
    }
   ],
   "source": [
    "\"\"\"\n",
    "Exception Handling\n",
    "\"\"\"\n",
    "x=1 \n",
    "try:\n",
    "    print(y)\n",
    "    print(x)\n",
    "except:\n",
    "    print(\"[ERROR]:y is not declared.\")"
   ]
  },
  {
   "cell_type": "code",
   "execution_count": null,
   "id": "7d2a17b1-46c4-45ea-b18d-c337dd432f4e",
   "metadata": {},
   "outputs": [],
   "source": []
  }
 ],
 "metadata": {
  "kernelspec": {
   "display_name": "Python 3 (ipykernel)",
   "language": "python",
   "name": "python3"
  },
  "language_info": {
   "codemirror_mode": {
    "name": "ipython",
    "version": 3
   },
   "file_extension": ".py",
   "mimetype": "text/x-python",
   "name": "python",
   "nbconvert_exporter": "python",
   "pygments_lexer": "ipython3",
   "version": "3.8.5"
  }
 },
 "nbformat": 4,
 "nbformat_minor": 5
}
