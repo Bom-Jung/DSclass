{
 "cells": [
  {
   "cell_type": "code",
   "execution_count": 1,
   "id": "35c9a7cc-67c7-4d93-aecb-1168042a4508",
   "metadata": {},
   "outputs": [],
   "source": [
    "import pandas as pd\n",
    "import numpy as np"
   ]
  },
  {
   "cell_type": "code",
   "execution_count": 45,
   "id": "4fc94e90-e86d-4911-9a5b-e0dcebd37769",
   "metadata": {},
   "outputs": [
    {
     "name": "stdout",
     "output_type": "stream",
     "text": [
      "[1 2 3 4 5 6 7 8 9] \n",
      "\n",
      "[[1 2 3]\n",
      " [4 5 6]\n",
      " [7 8 9]] \n",
      "\n"
     ]
    },
    {
     "data": {
      "text/plain": [
       "array([[1, 2, 1, 2],\n",
       "       [3, 4, 3, 4]])"
      ]
     },
     "execution_count": 45,
     "metadata": {},
     "output_type": "execute_result"
    }
   ],
   "source": [
    "\"\"\"\n",
    "numpy.concatenate()\n",
    "\"\"\"\n",
    "\n",
    "x=[1,2,3]\n",
    "y=[4,5,6]\n",
    "z=[7,8,9]\n",
    "\n",
    "print(np.concatenate([x,y,z]),'\\n')\n",
    "print(np.vstack([x,y,z]),'\\n')\n",
    "\n",
    "x = [[1,2],[3,4]]\n",
    "np.concatenate([x,x],axis=1)"
   ]
  },
  {
   "cell_type": "code",
   "execution_count": 8,
   "id": "e65d7f9b-328e-40e7-952c-f05d3889390c",
   "metadata": {},
   "outputs": [
    {
     "data": {
      "text/plain": [
       "1    A\n",
       "2    B\n",
       "3    C\n",
       "4    D\n",
       "5    E\n",
       "6    F\n",
       "dtype: object"
      ]
     },
     "execution_count": 8,
     "metadata": {},
     "output_type": "execute_result"
    }
   ],
   "source": [
    "\"\"\"\n",
    "pandas.concat()\n",
    "\"\"\"\n",
    "\n",
    "ser1 = pd.Series(['A','B','C'],index=[1,2,3])\n",
    "ser2 = pd.Series(['D','E','F'],index=[4,5,6])\n",
    "\n",
    "pd.concat([ser1,ser2])"
   ]
  },
  {
   "cell_type": "code",
   "execution_count": 30,
   "id": "9d4f57b6-c9f4-4e09-8671-2095f3bb5419",
   "metadata": {},
   "outputs": [
    {
     "name": "stdout",
     "output_type": "stream",
     "text": [
      "    A   B   C\n",
      "1  A1  B1  C1\n",
      "2  A2  B2  C2\n"
     ]
    }
   ],
   "source": [
    "\n",
    "def make_df(cols, ind):\n",
    "    data = {c: [str(c) + str(i) for i in ind]\n",
    "           for c in cols}\n",
    "    \n",
    "    return pd.DataFrame(data, ind)\n",
    "\n",
    "print(make_df('ABC', [1, 2]))\n",
    "\n"
   ]
  },
  {
   "cell_type": "code",
   "execution_count": 50,
   "id": "11b1f346-0c67-472a-99b4-8b7fef1a3ea4",
   "metadata": {},
   "outputs": [
    {
     "name": "stdout",
     "output_type": "stream",
     "text": [
      "    A   B\n",
      "1  A1  B1\n",
      "2  A2  B2 \n",
      "\n",
      "    A   B\n",
      "3  A3  B3\n",
      "4  A4  B4 \n",
      "\n",
      "     A    B    A    B\n",
      "1   A1   B1  NaN  NaN\n",
      "2   A2   B2  NaN  NaN\n",
      "3  NaN  NaN   A3   B3\n",
      "4  NaN  NaN   A4   B4\n",
      "    A   B\n",
      "0  A0  B0\n",
      "1  A1  B1 \n",
      "\n",
      "    C   D\n",
      "0  C0  D0\n",
      "1  C1  D1 \n",
      "\n",
      "    A   B   C   D\n",
      "0  A0  B0  C0  D0\n",
      "1  A1  B1  C1  D1\n"
     ]
    }
   ],
   "source": [
    "df1= make_df('AB',[1,2])\n",
    "df2= make_df('AB',[3,4])\n",
    "\n",
    "print(df1,'\\n')\n",
    "print(df2,'\\n')\n",
    "\n",
    "print(pd.concat([df1,df2],axis=1))\n",
    "\n",
    "df3 = make_df('AB',[0,1])\n",
    "df4 = make_df('CD',[0,1])\n",
    "\n",
    "print(df3,'\\n')\n",
    "print(df4,'\\n')\n",
    "\n",
    "print(pd.concat([df3,df4],axis=1))"
   ]
  },
  {
   "cell_type": "code",
   "execution_count": 57,
   "id": "2531ff67-78f5-4f40-b238-fde5dfc10d1c",
   "metadata": {},
   "outputs": [
    {
     "name": "stdout",
     "output_type": "stream",
     "text": [
      "    A   B\n",
      "0  A0  B0\n",
      "1  A1  B1 \n",
      "\n",
      "    A   B\n",
      "2  A2  B2\n",
      "3  A3  B3 \n",
      "\n",
      "    A   B\n",
      "0  A0  B0\n",
      "1  A1  B1\n",
      "2  A2  B2\n",
      "3  A3  B3\n"
     ]
    }
   ],
   "source": [
    "\"\"\"\n",
    "concate() Features\n",
    "\"\"\"\n",
    "x = make_df('AB',[0,1])\n",
    "y = make_df('AB',[2,3])\n",
    "\n",
    "print(x,'\\n')\n",
    "print(y,'\\n')\n",
    "\n",
    "print(pd.concat([x,y]))"
   ]
  },
  {
   "cell_type": "code",
   "execution_count": 61,
   "id": "6201061c-eee3-4291-a380-94eebeee0ed2",
   "metadata": {},
   "outputs": [
    {
     "data": {
      "text/html": [
       "<div>\n",
       "<style scoped>\n",
       "    .dataframe tbody tr th:only-of-type {\n",
       "        vertical-align: middle;\n",
       "    }\n",
       "\n",
       "    .dataframe tbody tr th {\n",
       "        vertical-align: top;\n",
       "    }\n",
       "\n",
       "    .dataframe thead th {\n",
       "        text-align: right;\n",
       "    }\n",
       "</style>\n",
       "<table border=\"1\" class=\"dataframe\">\n",
       "  <thead>\n",
       "    <tr style=\"text-align: right;\">\n",
       "      <th></th>\n",
       "      <th>A</th>\n",
       "      <th>B</th>\n",
       "    </tr>\n",
       "  </thead>\n",
       "  <tbody>\n",
       "    <tr>\n",
       "      <th>0</th>\n",
       "      <td>A0</td>\n",
       "      <td>B0</td>\n",
       "    </tr>\n",
       "    <tr>\n",
       "      <th>1</th>\n",
       "      <td>A1</td>\n",
       "      <td>B1</td>\n",
       "    </tr>\n",
       "    <tr>\n",
       "      <th>2</th>\n",
       "      <td>A2</td>\n",
       "      <td>B2</td>\n",
       "    </tr>\n",
       "    <tr>\n",
       "      <th>3</th>\n",
       "      <td>A3</td>\n",
       "      <td>B3</td>\n",
       "    </tr>\n",
       "  </tbody>\n",
       "</table>\n",
       "</div>"
      ],
      "text/plain": [
       "    A   B\n",
       "0  A0  B0\n",
       "1  A1  B1\n",
       "2  A2  B2\n",
       "3  A3  B3"
      ]
     },
     "execution_count": 61,
     "metadata": {},
     "output_type": "execute_result"
    }
   ],
   "source": [
    "try:\n",
    "    pd.concat([x,y],verify_integrity=True)\n",
    "    \n",
    "except ValueError as e:\n",
    "    print(\"ValueError: \",e)\n",
    "    \n",
    "pd.concat([x,y],ignore_index=True)"
   ]
  },
  {
   "cell_type": "code",
   "execution_count": 62,
   "id": "4bb0f444-40ba-41b1-b52e-1ea25877b314",
   "metadata": {},
   "outputs": [
    {
     "data": {
      "text/html": [
       "<div>\n",
       "<style scoped>\n",
       "    .dataframe tbody tr th:only-of-type {\n",
       "        vertical-align: middle;\n",
       "    }\n",
       "\n",
       "    .dataframe tbody tr th {\n",
       "        vertical-align: top;\n",
       "    }\n",
       "\n",
       "    .dataframe thead th {\n",
       "        text-align: right;\n",
       "    }\n",
       "</style>\n",
       "<table border=\"1\" class=\"dataframe\">\n",
       "  <thead>\n",
       "    <tr style=\"text-align: right;\">\n",
       "      <th></th>\n",
       "      <th></th>\n",
       "      <th>A</th>\n",
       "      <th>B</th>\n",
       "    </tr>\n",
       "  </thead>\n",
       "  <tbody>\n",
       "    <tr>\n",
       "      <th rowspan=\"2\" valign=\"top\">x</th>\n",
       "      <th>0</th>\n",
       "      <td>A0</td>\n",
       "      <td>B0</td>\n",
       "    </tr>\n",
       "    <tr>\n",
       "      <th>1</th>\n",
       "      <td>A1</td>\n",
       "      <td>B1</td>\n",
       "    </tr>\n",
       "    <tr>\n",
       "      <th rowspan=\"2\" valign=\"top\">y</th>\n",
       "      <th>2</th>\n",
       "      <td>A2</td>\n",
       "      <td>B2</td>\n",
       "    </tr>\n",
       "    <tr>\n",
       "      <th>3</th>\n",
       "      <td>A3</td>\n",
       "      <td>B3</td>\n",
       "    </tr>\n",
       "  </tbody>\n",
       "</table>\n",
       "</div>"
      ],
      "text/plain": [
       "      A   B\n",
       "x 0  A0  B0\n",
       "  1  A1  B1\n",
       "y 2  A2  B2\n",
       "  3  A3  B3"
      ]
     },
     "execution_count": 62,
     "metadata": {},
     "output_type": "execute_result"
    }
   ],
   "source": [
    "pd.concat([x,y],keys=['x','y'])"
   ]
  },
  {
   "cell_type": "code",
   "execution_count": 66,
   "id": "82318efc-eead-44cd-ace5-4548d149b8be",
   "metadata": {},
   "outputs": [
    {
     "name": "stdout",
     "output_type": "stream",
     "text": [
      "    A   B   C\n",
      "1  A1  B1  C1\n",
      "2  A2  B2  C2 \n",
      "\n",
      "     B   C   D\n",
      "3  B3  C3  D3\n",
      "4  B4  C4  D4\n",
      "     A   B   C    D\n",
      "1   A1  B1  C1  NaN\n",
      "2   A2  B2  C2  NaN\n",
      "3  NaN  B3  C3   D3\n",
      "4  NaN  B4  C4   D4\n",
      "    B   C\n",
      "1  B1  C1\n",
      "2  B2  C2\n",
      "3  B3  C3\n",
      "4  B4  C4\n"
     ]
    }
   ],
   "source": [
    "\"\"\"\n",
    "Concat(): join options\n",
    "\"\"\"\n",
    "\n",
    "x= make_df('ABC',[1,2])\n",
    "y= make_df('BCD',[3,4])\n",
    "\n",
    "print(x,'\\n\\n',y)\n",
    "\n",
    "print(pd.concat([x,y],join='outer'))\n",
    "print(pd.concat([x,y],join='inner'))"
   ]
  },
  {
   "cell_type": "code",
   "execution_count": 70,
   "id": "ad4a4e80-f2f1-4808-97c3-15d942ff70d3",
   "metadata": {},
   "outputs": [
    {
     "name": "stdout",
     "output_type": "stream",
     "text": [
      "    A   B\n",
      "1  A1  B1\n",
      "2  A2  B2\n",
      "\n",
      "    A   B\n",
      "3  A3  B3\n",
      "4  A4  B4\n",
      "\n",
      "    A   B\n",
      "1  A1  B1\n",
      "2  A2  B2\n",
      "3  A3  B3\n",
      "4  A4  B4\n"
     ]
    }
   ],
   "source": [
    "print(df1);print()\n",
    "print(df2);print()\n",
    "print(df1.append(df2))"
   ]
  },
  {
   "cell_type": "code",
   "execution_count": 71,
   "id": "0b5b21ef-a8cd-4466-b32a-c3bd706537c1",
   "metadata": {},
   "outputs": [
    {
     "name": "stdout",
     "output_type": "stream",
     "text": [
      "  employee        group\n",
      "0      Bob   Accounting\n",
      "1     Jake  Engineering\n",
      "2     Lisa  Engineering\n",
      "3      Sue           HR \n",
      "\n",
      "   employee  hire_date\n",
      "0     Lisa       2004\n",
      "1      Bob       2008\n",
      "2     Jake       2012\n",
      "3      Sue       2014\n"
     ]
    }
   ],
   "source": [
    "\"\"\"\n",
    "Join operations\n",
    "\"\"\"\n",
    "\n",
    "#one-to-one joins\n",
    "df1 = pd.DataFrame({'employee': ['Bob', 'Jake', 'Lisa', 'Sue'],\n",
    "                   'group': ['Accounting', 'Engineering', 'Engineering', 'HR']})\n",
    "\n",
    "df2 = pd.DataFrame({'employee': ['Lisa', 'Bob', 'Jake', 'Sue'],\n",
    "                   'hire_date': [2004, 2008, 2012, 2014]})\n",
    "\n",
    "print(df1,'\\n\\n',df2)"
   ]
  },
  {
   "cell_type": "code",
   "execution_count": 73,
   "id": "ea470a7c-86f8-4d3c-8dea-51b7360013e9",
   "metadata": {},
   "outputs": [
    {
     "name": "stdout",
     "output_type": "stream",
     "text": [
      "  employee        group  hire_date\n",
      "0      Bob   Accounting       2008\n",
      "1     Jake  Engineering       2012\n",
      "2     Lisa  Engineering       2004\n",
      "3      Sue           HR       2014\n"
     ]
    }
   ],
   "source": [
    "df3 = pd.merge(df1,df2)\n",
    "print(df3)"
   ]
  },
  {
   "cell_type": "code",
   "execution_count": 74,
   "id": "b72a6eab-b25c-4a0f-a9ec-05be8605ed2b",
   "metadata": {},
   "outputs": [
    {
     "name": "stdout",
     "output_type": "stream",
     "text": [
      "  employee        group  hire_date\n",
      "0      Bob   Accounting       2008\n",
      "1     Jake  Engineering       2012\n",
      "2     Lisa  Engineering       2004\n",
      "3      Sue           HR       2014 \n",
      "\n",
      "         group supervisor\n",
      "0   Accounting      Carly\n",
      "1  Engineering      Guido\n",
      "2           HR      Steve \n",
      "\n"
     ]
    }
   ],
   "source": [
    "#many-to-one joins\n",
    "df4 = pd.DataFrame({'group': ['Accounting', 'Engineering', 'HR'],\n",
    "                   'supervisor': ['Carly', 'Guido', 'Steve']})\n",
    "print(df3,'\\n')\n",
    "print(df4,'\\n')"
   ]
  },
  {
   "cell_type": "code",
   "execution_count": 75,
   "id": "ec6652a5-c130-422f-bb3a-5c662cffe302",
   "metadata": {},
   "outputs": [
    {
     "name": "stdout",
     "output_type": "stream",
     "text": [
      "  employee        group  hire_date supervisor\n",
      "0      Bob   Accounting       2008      Carly\n",
      "1     Jake  Engineering       2012      Guido\n",
      "2     Lisa  Engineering       2004      Guido\n",
      "3      Sue           HR       2014      Steve\n"
     ]
    }
   ],
   "source": [
    "print(pd.merge(df3,df4))"
   ]
  },
  {
   "cell_type": "code",
   "execution_count": 77,
   "id": "ba02b949-0539-4c71-a189-01393e9051f4",
   "metadata": {},
   "outputs": [
    {
     "name": "stdout",
     "output_type": "stream",
     "text": [
      "  employee        group\n",
      "0      Bob   Accounting\n",
      "1     Jake  Engineering\n",
      "2     Lisa  Engineering\n",
      "3      Sue           HR \n",
      "\n",
      "         group        skills\n",
      "0   Accounting          math\n",
      "1   Accounting  spreadsheets\n",
      "2  Engineering        coding\n",
      "3  Engineering         linux\n",
      "4           HR  spreadsheets\n",
      "5           HR  organization \n",
      "\n",
      "  employee        group        skills\n",
      "0      Bob   Accounting          math\n",
      "1      Bob   Accounting  spreadsheets\n",
      "2     Jake  Engineering        coding\n",
      "3     Jake  Engineering         linux\n",
      "4     Lisa  Engineering        coding\n",
      "5     Lisa  Engineering         linux\n",
      "6      Sue           HR  spreadsheets\n",
      "7      Sue           HR  organization\n"
     ]
    }
   ],
   "source": [
    "#many-to-many joins\n",
    "df5 = pd.DataFrame({'group': ['Accounting', 'Accounting',\n",
    "                             'Engineering', 'Engineering',\n",
    "                             'HR', 'HR'],\n",
    "                   'skills': ['math', 'spreadsheets', 'coding',\n",
    "                             'linux', 'spreadsheets', 'organization']})\n",
    "\n",
    "print(df1, '\\n')\n",
    "print(df5, '\\n')\n",
    "\n",
    "print(pd.merge(df1, df5))"
   ]
  },
  {
   "cell_type": "code",
   "execution_count": 81,
   "id": "bb4d0cca-e801-4ddd-ad7e-49a1ace455aa",
   "metadata": {},
   "outputs": [
    {
     "name": "stdout",
     "output_type": "stream",
     "text": [
      "  employee        group  age\n",
      "0      Bob   Accounting   20\n",
      "1     Jake  Engineering   42\n",
      "2     Lisa  Engineering   37\n",
      "3      Sue           HR   25 \n",
      "\n",
      "  employee  hire_date  age\n",
      "0     Lisa       2004   37\n",
      "1      Bob       2008   20\n",
      "2     Jake       2012   42\n",
      "3      Sue       2014   25 \n",
      "\n",
      "  employee        group  age\n",
      "0      Bob   Accounting   20\n",
      "1     Jake  Engineering   42\n",
      "2     Lisa  Engineering   37\n",
      "3      Sue           HR   25 \n",
      "\n",
      "  employee  hire_date  age\n",
      "0     Lisa       2004   37\n",
      "1      Bob       2008   20\n",
      "2     Jake       2012   42\n",
      "3      Sue       2014   25 \n",
      "\n",
      "  employee        group  age_x  hire_date  age_y\n",
      "0      Bob   Accounting     20       2008     20\n",
      "1     Jake  Engineering     42       2012     42\n",
      "2     Lisa  Engineering     37       2004     37\n",
      "3      Sue           HR     25       2014     25 \n",
      "\n"
     ]
    }
   ],
   "source": [
    "\"\"\"\n",
    "Specifying the merge Key\n",
    "\"\"\"\n",
    "\n",
    "print(df1,'\\n')\n",
    "print(df2,'\\n')\n",
    "\n",
    "df1['age'] = pd.Series([20,42,37,25])\n",
    "df2['age'] = pd.Series([37,20,42,25])\n",
    "\n",
    "print(df1,'\\n')\n",
    "print(df2,'\\n')\n",
    "\n",
    "print(pd.merge(df1,df2,on='employee'),'\\n')"
   ]
  },
  {
   "cell_type": "code",
   "execution_count": 83,
   "id": "c9d4bd5d-897f-432b-8a66-3f8d947186b9",
   "metadata": {},
   "outputs": [
    {
     "name": "stdout",
     "output_type": "stream",
     "text": [
      "  employee        group  age\n",
      "0      Bob   Accounting   20\n",
      "1     Jake  Engineering   42\n",
      "2     Lisa  Engineering   37\n",
      "3      Sue           HR   25 \n",
      "\n",
      "   name  salary\n",
      "0   Bob   70000\n",
      "1  Jake   80000\n",
      "2  Lisa  120000\n",
      "3   Sue   90000 \n",
      "\n"
     ]
    },
    {
     "data": {
      "text/html": [
       "<div>\n",
       "<style scoped>\n",
       "    .dataframe tbody tr th:only-of-type {\n",
       "        vertical-align: middle;\n",
       "    }\n",
       "\n",
       "    .dataframe tbody tr th {\n",
       "        vertical-align: top;\n",
       "    }\n",
       "\n",
       "    .dataframe thead th {\n",
       "        text-align: right;\n",
       "    }\n",
       "</style>\n",
       "<table border=\"1\" class=\"dataframe\">\n",
       "  <thead>\n",
       "    <tr style=\"text-align: right;\">\n",
       "      <th></th>\n",
       "      <th>employee</th>\n",
       "      <th>group</th>\n",
       "      <th>age</th>\n",
       "      <th>name</th>\n",
       "      <th>salary</th>\n",
       "    </tr>\n",
       "  </thead>\n",
       "  <tbody>\n",
       "    <tr>\n",
       "      <th>0</th>\n",
       "      <td>Bob</td>\n",
       "      <td>Accounting</td>\n",
       "      <td>20</td>\n",
       "      <td>Bob</td>\n",
       "      <td>70000</td>\n",
       "    </tr>\n",
       "    <tr>\n",
       "      <th>1</th>\n",
       "      <td>Jake</td>\n",
       "      <td>Engineering</td>\n",
       "      <td>42</td>\n",
       "      <td>Jake</td>\n",
       "      <td>80000</td>\n",
       "    </tr>\n",
       "    <tr>\n",
       "      <th>2</th>\n",
       "      <td>Lisa</td>\n",
       "      <td>Engineering</td>\n",
       "      <td>37</td>\n",
       "      <td>Lisa</td>\n",
       "      <td>120000</td>\n",
       "    </tr>\n",
       "    <tr>\n",
       "      <th>3</th>\n",
       "      <td>Sue</td>\n",
       "      <td>HR</td>\n",
       "      <td>25</td>\n",
       "      <td>Sue</td>\n",
       "      <td>90000</td>\n",
       "    </tr>\n",
       "  </tbody>\n",
       "</table>\n",
       "</div>"
      ],
      "text/plain": [
       "  employee        group  age  name  salary\n",
       "0      Bob   Accounting   20   Bob   70000\n",
       "1     Jake  Engineering   42  Jake   80000\n",
       "2     Lisa  Engineering   37  Lisa  120000\n",
       "3      Sue           HR   25   Sue   90000"
      ]
     },
     "execution_count": 83,
     "metadata": {},
     "output_type": "execute_result"
    }
   ],
   "source": [
    "df3 = pd.DataFrame({'name':['Bob', 'Jake', 'Lisa', 'Sue'],\n",
    "                   'salary': [70000, 80000, 120000, 90000]})\n",
    "print(df1,'\\n')\n",
    "print(df3,'\\n')\n",
    "\n",
    "pd.merge(df1,df3,left_on=\"employee\", right_on='name')"
   ]
  },
  {
   "cell_type": "code",
   "execution_count": 87,
   "id": "dc52632d-8142-4076-ba59-eab79270ea09",
   "metadata": {},
   "outputs": [
    {
     "name": "stdout",
     "output_type": "stream",
     "text": [
      "                group  age\n",
      "employee                  \n",
      "Bob        Accounting   20\n",
      "Jake      Engineering   42\n",
      "Lisa      Engineering   37\n",
      "Sue                HR   25 \n",
      "\n",
      "           hire_date  age\n",
      "employee                \n",
      "Lisa           2004   37\n",
      "Bob            2008   20\n",
      "Jake           2012   42\n",
      "Sue            2014   25\n",
      "                group  age_x  hire_date  age_y\n",
      "employee                                      \n",
      "Bob        Accounting     20       2008     20\n",
      "Jake      Engineering     42       2012     42\n",
      "Lisa      Engineering     37       2004     37\n",
      "Sue                HR     25       2014     25\n"
     ]
    }
   ],
   "source": [
    "#left_index and right_index arguments\n",
    "#merge on and index('employee')\n",
    "\n",
    "df1a= df1.set_index('employee')\n",
    "df2a= df2.set_index('employee')\n",
    "\n",
    "print(df1a,'\\n\\n',df2a)\n",
    "\n",
    "print(pd.merge(df1a,df2a,left_index=True,right_index=True))"
   ]
  },
  {
   "cell_type": "code",
   "execution_count": 95,
   "id": "393380fd-5510-49a5-a0f1-1503f1593a93",
   "metadata": {},
   "outputs": [
    {
     "name": "stdout",
     "output_type": "stream",
     "text": [
      "    name   food\n",
      "0  Peter   fish\n",
      "1   Paul   bean\n",
      "2   Mary  bread \n",
      "\n",
      "      name drink\n",
      "0    Mary  wine\n",
      "1  Joseph  beer\n"
     ]
    }
   ],
   "source": [
    "\"\"\"\n",
    "Specifying the Join method\n",
    "\"\"\"\n",
    "\n",
    "df6= pd.DataFrame({'name':['Peter','Paul','Mary'],\n",
    "                   'food':['fish','bean','bread']},\n",
    "                  columns= ['name','food'])\n",
    "df7 = pd.DataFrame({'name': ['Mary', 'Joseph'],\n",
    "                   'drink': ['wine', 'beer']},\n",
    "                  columns=['name', 'drink'])\n",
    "\n",
    "print(df6,'\\n\\n',df7)\n"
   ]
  },
  {
   "cell_type": "code",
   "execution_count": 94,
   "id": "e6f38479-7888-4f06-a1cf-b828a6179a07",
   "metadata": {},
   "outputs": [
    {
     "data": {
      "text/html": [
       "<div>\n",
       "<style scoped>\n",
       "    .dataframe tbody tr th:only-of-type {\n",
       "        vertical-align: middle;\n",
       "    }\n",
       "\n",
       "    .dataframe tbody tr th {\n",
       "        vertical-align: top;\n",
       "    }\n",
       "\n",
       "    .dataframe thead th {\n",
       "        text-align: right;\n",
       "    }\n",
       "</style>\n",
       "<table border=\"1\" class=\"dataframe\">\n",
       "  <thead>\n",
       "    <tr style=\"text-align: right;\">\n",
       "      <th></th>\n",
       "      <th>name</th>\n",
       "      <th>food</th>\n",
       "      <th>drink</th>\n",
       "    </tr>\n",
       "  </thead>\n",
       "  <tbody>\n",
       "    <tr>\n",
       "      <th>0</th>\n",
       "      <td>Mary</td>\n",
       "      <td>bread</td>\n",
       "      <td>wine</td>\n",
       "    </tr>\n",
       "  </tbody>\n",
       "</table>\n",
       "</div>"
      ],
      "text/plain": [
       "   name   food drink\n",
       "0  Mary  bread  wine"
      ]
     },
     "execution_count": 94,
     "metadata": {},
     "output_type": "execute_result"
    }
   ],
   "source": [
    "pd.merge(df6, df7, how='inner')"
   ]
  },
  {
   "cell_type": "code",
   "execution_count": 96,
   "id": "5c76a3be-454c-48d9-80d6-d44a84d7050b",
   "metadata": {},
   "outputs": [
    {
     "data": {
      "text/html": [
       "<div>\n",
       "<style scoped>\n",
       "    .dataframe tbody tr th:only-of-type {\n",
       "        vertical-align: middle;\n",
       "    }\n",
       "\n",
       "    .dataframe tbody tr th {\n",
       "        vertical-align: top;\n",
       "    }\n",
       "\n",
       "    .dataframe thead th {\n",
       "        text-align: right;\n",
       "    }\n",
       "</style>\n",
       "<table border=\"1\" class=\"dataframe\">\n",
       "  <thead>\n",
       "    <tr style=\"text-align: right;\">\n",
       "      <th></th>\n",
       "      <th>name</th>\n",
       "      <th>food</th>\n",
       "      <th>drink</th>\n",
       "    </tr>\n",
       "  </thead>\n",
       "  <tbody>\n",
       "    <tr>\n",
       "      <th>0</th>\n",
       "      <td>Peter</td>\n",
       "      <td>fish</td>\n",
       "      <td>NaN</td>\n",
       "    </tr>\n",
       "    <tr>\n",
       "      <th>1</th>\n",
       "      <td>Paul</td>\n",
       "      <td>bean</td>\n",
       "      <td>NaN</td>\n",
       "    </tr>\n",
       "    <tr>\n",
       "      <th>2</th>\n",
       "      <td>Mary</td>\n",
       "      <td>bread</td>\n",
       "      <td>wine</td>\n",
       "    </tr>\n",
       "    <tr>\n",
       "      <th>3</th>\n",
       "      <td>Joseph</td>\n",
       "      <td>NaN</td>\n",
       "      <td>beer</td>\n",
       "    </tr>\n",
       "  </tbody>\n",
       "</table>\n",
       "</div>"
      ],
      "text/plain": [
       "     name   food drink\n",
       "0   Peter   fish   NaN\n",
       "1    Paul   bean   NaN\n",
       "2    Mary  bread  wine\n",
       "3  Joseph    NaN  beer"
      ]
     },
     "execution_count": 96,
     "metadata": {},
     "output_type": "execute_result"
    }
   ],
   "source": [
    "pd.merge(df6, df7, how='outer')"
   ]
  },
  {
   "cell_type": "code",
   "execution_count": 97,
   "id": "d73cab95-811e-4a29-b37b-92604e530335",
   "metadata": {},
   "outputs": [
    {
     "data": {
      "text/html": [
       "<div>\n",
       "<style scoped>\n",
       "    .dataframe tbody tr th:only-of-type {\n",
       "        vertical-align: middle;\n",
       "    }\n",
       "\n",
       "    .dataframe tbody tr th {\n",
       "        vertical-align: top;\n",
       "    }\n",
       "\n",
       "    .dataframe thead th {\n",
       "        text-align: right;\n",
       "    }\n",
       "</style>\n",
       "<table border=\"1\" class=\"dataframe\">\n",
       "  <thead>\n",
       "    <tr style=\"text-align: right;\">\n",
       "      <th></th>\n",
       "      <th>name</th>\n",
       "      <th>food</th>\n",
       "      <th>drink</th>\n",
       "    </tr>\n",
       "  </thead>\n",
       "  <tbody>\n",
       "    <tr>\n",
       "      <th>0</th>\n",
       "      <td>Peter</td>\n",
       "      <td>fish</td>\n",
       "      <td>NaN</td>\n",
       "    </tr>\n",
       "    <tr>\n",
       "      <th>1</th>\n",
       "      <td>Paul</td>\n",
       "      <td>bean</td>\n",
       "      <td>NaN</td>\n",
       "    </tr>\n",
       "    <tr>\n",
       "      <th>2</th>\n",
       "      <td>Mary</td>\n",
       "      <td>bread</td>\n",
       "      <td>wine</td>\n",
       "    </tr>\n",
       "  </tbody>\n",
       "</table>\n",
       "</div>"
      ],
      "text/plain": [
       "    name   food drink\n",
       "0  Peter   fish   NaN\n",
       "1   Paul   bean   NaN\n",
       "2   Mary  bread  wine"
      ]
     },
     "execution_count": 97,
     "metadata": {},
     "output_type": "execute_result"
    }
   ],
   "source": [
    "pd.merge(df6, df7, how='left')"
   ]
  },
  {
   "cell_type": "code",
   "execution_count": null,
   "id": "dc4165c2-e0ab-4590-8e61-b7aa067e6b98",
   "metadata": {},
   "outputs": [],
   "source": []
  }
 ],
 "metadata": {
  "kernelspec": {
   "display_name": "Python 3 (ipykernel)",
   "language": "python",
   "name": "python3"
  },
  "language_info": {
   "codemirror_mode": {
    "name": "ipython",
    "version": 3
   },
   "file_extension": ".py",
   "mimetype": "text/x-python",
   "name": "python",
   "nbconvert_exporter": "python",
   "pygments_lexer": "ipython3",
   "version": "3.8.5"
  }
 },
 "nbformat": 4,
 "nbformat_minor": 5
}
